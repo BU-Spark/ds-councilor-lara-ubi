{
 "cells": [
  {
   "cell_type": "code",
   "execution_count": 8,
   "metadata": {},
   "outputs": [],
   "source": [
    "import PyPDF2 as pdf2\n",
    "import json\n",
    "import pandas as pds\n",
    "import numpy as np\n",
    "from tabula import read_pdf\n",
    "from tabulate import tabulate\n",
    "import Uni\n"
   ]
  },
  {
   "cell_type": "code",
   "execution_count": 46,
   "metadata": {},
   "outputs": [],
   "source": [
    "dataPath = \"../data/\"\n",
    "fileName = \"keydata-october-2022.pdf\"\n",
    "pdf = open(dataPath+fileName,'rb')\n",
    "pdfReader = pdf2.PdfReader(pdf)\n",
    "\n",
    "for i in range(len(pdfReader.pages)):\n",
    "    pageNum = i\n",
    "    pageObj = pdfReader.pages[pageNum]\n",
    "\n",
    "    with open(\"./WIC/page\" + str(pageNum) + \"txt\", \"w\") as f:\n",
    "        \n",
    "        f.write(pageObj.extract_text())\n",
    "\n",
    "    f.close()\n",
    "\n",
    "# with open(\"source page\" + str(pageNum), \"w\") as f:\n",
    "    \n",
    "#     f.write(pageObj.get_contents.decode(\"utf-8\"))\n",
    "\n",
    "# f.close()\n",
    "\n"
   ]
  },
  {
   "cell_type": "code",
   "execution_count": null,
   "metadata": {},
   "outputs": [],
   "source": []
  }
 ],
 "metadata": {
  "kernelspec": {
   "display_name": "Python 3",
   "language": "python",
   "name": "python3"
  },
  "language_info": {
   "codemirror_mode": {
    "name": "ipython",
    "version": 3
   },
   "file_extension": ".py",
   "mimetype": "text/x-python",
   "name": "python",
   "nbconvert_exporter": "python",
   "pygments_lexer": "ipython3",
   "version": "3.10.4"
  },
  "orig_nbformat": 4,
  "vscode": {
   "interpreter": {
    "hash": "907098988ca311d8aa77b5aac51f963327eb6a555300b80fbf5d65336e90d8f6"
   }
  }
 },
 "nbformat": 4,
 "nbformat_minor": 2
}
