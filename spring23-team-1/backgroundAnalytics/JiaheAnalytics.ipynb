{
 "cells": [
  {
   "cell_type": "code",
   "execution_count": 98,
   "metadata": {},
   "outputs": [],
   "source": [
    "import PyPDF2 as pdf2\n",
    "import json\n",
    "import pandas as pd\n",
    "import numpy as np\n",
    "from tabula import read_pdf\n",
    "from tabulate import tabulate\n",
    "import matplotlib.pyplot as plt\n",
    "import folium\n",
    "import geopandas as gpd\n",
    "\n",
    "dataPath = \"../data/\"\n"
   ]
  },
  {
   "cell_type": "code",
   "execution_count": 47,
   "metadata": {},
   "outputs": [],
   "source": [
    "'''\n",
    "WIC Data\n",
    "'''\n",
    "fileName = \"keydata-october-2022.pdf\"\n",
    "pdf = open(dataPath+fileName,'rb')\n",
    "pdfReader = pdf2.PdfReader(pdf)\n",
    "\n",
    "for i in range(len(pdfReader.pages)):\n",
    "    pageNum = i\n",
    "    pageObj = pdfReader.pages[pageNum]\n",
    "\n",
    "    with open(\"./WIC/page\" + str(pageNum) + \"txt\", \"w\") as f:\n",
    "        \n",
    "        f.write(pageObj.extract_text())\n",
    "\n",
    "    f.close()\n",
    "\n",
    "# with open(\"source page\" + str(pageNum), \"w\") as f:\n",
    "    \n",
    "#     f.write(pageObj.get_contents.decode(\"utf-8\"))\n",
    "\n",
    "# f.close()\n",
    "\n"
   ]
  },
  {
   "cell_type": "code",
   "execution_count": 96,
   "metadata": {},
   "outputs": [
    {
     "name": "stdout",
     "output_type": "stream",
     "text": [
      "  SHORTNAME  FID    WHITE   BLACK   AIAN    ASIAN   HPI   OTHER  Shape__Area\n",
      "1        D2  2.0  53120.0  4520.0  269.0  13604.0  55.0  4893.0     0.001969\n",
      "[1.0 44656.0 3637.0 783.0 5080.0 50.0 20935.0 0.0029850570322196]\n",
      "[2.0 53120.0 4520.0 269.0 13604.0 55.0 4893.0 0.001968731256511]\n",
      "[3.0 29284.0 14990.0 492.0 13190.0 45.0 9927.0 0.0110066903946517]\n",
      "[4.0 10515.0 40030.0 653.0 3093.0 44.0 11569.0 0.0013236215525012]\n",
      "[5.0 20392.0 35584.0 475.0 2022.0 42.0 12727.0 0.0022998905149052]\n",
      "[6.0 48416.0 8694.0 516.0 7271.0 47.0 9359.0 0.0027128071353672]\n",
      "[7.0 18740.0 28006.0 519.0 6565.0 60.0 12825.0 0.0009894554646052]\n",
      "[8.0 47430.0 5493.0 332.0 16405.0 54.0 5626.0 0.000802711510687]\n",
      "[9.0 45548.0 4457.0 486.0 15390.0 71.0 7577.0 0.0012630510964299]\n"
     ]
    },
    {
     "data": {
      "image/png": "[encoded data removed]",
      "text/plain": [
       "<Figure size 432x288 with 1 Axes>"
      ]
     },
     "metadata": {
      "needs_background": "light"
     },
     "output_type": "display_data"
    }
   ],
   "source": [
    "'''\n",
    "Shapefile\n",
    "This dataset describes the population of the district respect to race.\n",
    "'''\n",
    "\n",
    "districtPop = pd.read_csv(dataPath + \"Shapefile.csv\")\n",
    "col = ['FID','LONGNAME', 'SHORTNAME','DISTRICT', 'COLOR',\n",
    " 'TOTAL',\n",
    " 'TARGET_DEV',\n",
    " 'TARGET_D_1',\n",
    " 'TOTAL18',\n",
    " 'TOTALHISP',\n",
    " 'TOTALNH',\n",
    " 'WHITENH',\n",
    " 'BLACKNH',\n",
    " 'AIANNH',\n",
    " 'ASIANNH',\n",
    " 'HPINH',\n",
    " 'OTHERNH',\n",
    " 'MLTMNNH',\n",
    " 'HISP18',\n",
    " 'NONHISP18',\n",
    " 'WHITENH18',\n",
    " 'BLACKNH18',\n",
    " 'AIANNH18',\n",
    " 'ASIANNH18',\n",
    " 'HPINH18',\n",
    " 'OTHERNH18',\n",
    " 'MLTMNNH18',\n",
    " 'WHITE','BLACK','AIAN', 'ASIAN','HPI','OTHER',\n",
    " 'MLTMN',\n",
    " 'Shape__Area',\n",
    " 'Shape__Length',\n",
    " 'DistrictText']\n",
    "cols = ['SHORTNAME','FID','WHITE','BLACK','AIAN', 'ASIAN','HPI','OTHER', 'Shape__Area']\n",
    "districtPop = districtPop[cols]\n",
    "for colName in cols[1:]:\n",
    "    districtPop[colName] = districtPop[colName].astype(float) \n",
    "# print(districtPop.head)\n",
    "numDistrict = len(districtPop[\"SHORTNAME\"])\n",
    "\n",
    "fig, ax = plt.subplots()\n",
    "y = []\n",
    "print((districtPop.loc[districtPop['FID'] == 2]))\n",
    "for i in range(numDistrict):\n",
    "    # print(districtPop)\n",
    "    y=districtPop.loc[districtPop['FID'] == i+1]\n",
    "    y=np.array(y)\n",
    "    print(y[0][1:])\n",
    "    ax.bar(cols[1:], y[0][1:])\n",
    "\n",
    "plt.show()\n"
   ]
  },
  {
   "cell_type": "code",
   "execution_count": 99,
   "metadata": {},
   "outputs": [
    {
     "name": "stdout",
     "output_type": "stream",
     "text": [
      "   FID    LONGNAME SHORTNAME  DISTRICT       COLOR  TOTAL  TARGET_DEV  \\\n",
      "0    1  District 1        D1         1  -851848832  76830        1758   \n",
      "1    2  District 2        D2         2   465990528  77466        2394   \n",
      "2    3  District 3        D3         3   494969216  73285       -1787   \n",
      "3    4  District 4        D4         4      -65408  72917       -2155   \n",
      "4    5  District 5        D5         5   412292224  75436         364   \n",
      "5    6  District 6        D6         6  1971620992  76523        1451   \n",
      "6    7  District 7        D7         7  1946148736  72147       -2925   \n",
      "7    8  District 8        D8         8   639511936  76370        1298   \n",
      "8    9  District 9        D9         9  -119742707  74673        -399   \n",
      "\n",
      "   TARGET_D_1  TOTAL18  TOTALHISP  ...  BLACK  AIAN  ASIAN  HPI  OTHER  MLTMN  \\\n",
      "0        2.34    64257      24552  ...   3637   783   5080   50  20935   1689   \n",
      "1        3.19    70183       6640  ...   4520   269  13604   55   4893   1005   \n",
      "2       -2.38    60834      11898  ...  14990   492  13190   45   9927   5357   \n",
      "3       -2.87    54939      17409  ...  40030   653   3093   44  11569   7013   \n",
      "4        0.48    59652      18191  ...  35584   475   2022   42  12727   4194   \n",
      "5        1.93    64286      12660  ...   8694   516   7271   47   9359   2220   \n",
      "6       -3.90    59234      18703  ...  28006   519   6565   60  12825   5432   \n",
      "7        1.73    71921       7633  ...   5493   332  16405   54   5626   1030   \n",
      "8       -0.53    68530       8427  ...   4457   486  15390   71   7577   1144   \n",
      "\n",
      "   Shape__Are  Shape__Len  DistrictTe  \\\n",
      "0    0.002985    0.380208           1   \n",
      "1    0.001969    0.341635           2   \n",
      "2    0.011007    0.957769           3   \n",
      "3    0.001324    0.296487           4   \n",
      "4    0.002300    0.313325           5   \n",
      "5    0.002713    0.356852           6   \n",
      "6    0.000989    0.185936           7   \n",
      "7    0.000803    0.217061           8   \n",
      "8    0.001263    0.174306           9   \n",
      "\n",
      "                                            geometry  \n",
      "0  POLYGON ((-71.06406 42.36901, -71.06413 42.369...  \n",
      "1  POLYGON ((-71.07307 42.35125, -71.07194 42.351...  \n",
      "2  POLYGON ((-71.04935 42.33035, -71.04891 42.330...  \n",
      "3  POLYGON ((-71.08390 42.30760, -71.08369 42.307...  \n",
      "4  POLYGON ((-71.08546 42.28105, -71.08543 42.281...  \n",
      "5  POLYGON ((-71.11275 42.33183, -71.11253 42.331...  \n",
      "6  POLYGON ((-71.09575 42.33774, -71.09482 42.338...  \n",
      "7  POLYGON ((-71.11830 42.35506, -71.11824 42.355...  \n",
      "8  POLYGON ((-71.16989 42.35765, -71.16947 42.358...  \n",
      "\n",
      "[9 rows x 38 columns]\n"
     ]
    }
   ],
   "source": [
    "\n",
    "\n",
    "shapefile = gpd.read_file(dataPath+ \"City_Council_Districts_-_Effective_for_the_2023_Municipal_Election.shp\")\n",
    "print(shapefile)"
   ]
  }
 ],
 "metadata": {
  "kernelspec": {
   "display_name": "Python 3",
   "language": "python",
   "name": "python3"
  },
  "language_info": {
   "codemirror_mode": {
    "name": "ipython",
    "version": 3
   },
   "file_extension": ".py",
   "mimetype": "text/x-python",
   "name": "python",
   "nbconvert_exporter": "python",
   "pygments_lexer": "ipython3",
   "version": "3.10.4"
  },
  "orig_nbformat": 4,
  "vscode": {
   "interpreter": {
    "hash": "907098988ca311d8aa77b5aac51f963327eb6a555300b80fbf5d65336e90d8f6"
   }
  }
 },
 "nbformat": 4,
 "nbformat_minor": 2
}
