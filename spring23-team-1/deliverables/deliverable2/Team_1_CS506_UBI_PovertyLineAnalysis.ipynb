{
  "cells": [
    {
      "cell_type": "code",
      "execution_count": null,
      "metadata": {
        "colab": {
          "base_uri": "https://localhost:8080/"
        },
        "id": "eGtS-BfuY-WG",
        "outputId": "dfbbafc3-48f3-45fa-a3cd-01e55f819171"
      },
      "outputs": [
        {
          "name": "stdout",
          "output_type": "stream",
          "text": [
            "Mounted at /content/drive\n"
          ]
        }
      ],
      "source": [
        "# mount google drive\n",
        "# from google.colab import drive\n",
        "# drive.mount('/content/drive')"
      ]
    },
    {
      "cell_type": "code",
      "execution_count": 1,
      "metadata": {
        "colab": {
          "base_uri": "https://localhost:8080/"
        },
        "id": "0dv83avsZZaH",
        "outputId": "2f3cc6b6-2aa9-487f-c08a-11419302bcf0"
      },
      "outputs": [
        {
          "name": "stderr",
          "output_type": "stream",
          "text": [
            "C:\\Users\\patte\\AppData\\Local\\Temp\\ipykernel_35376\\3349608457.py:5: MatplotlibDeprecationWarning: The seaborn styles shipped by Matplotlib are deprecated since 3.6, as they no longer correspond to the styles shipped by seaborn. However, they will remain available as 'seaborn-v0_8-<style>'. Alternatively, directly use the seaborn API instead.\n",
            "  plt.style.use('seaborn-paper')\n"
          ]
        }
      ],
      "source": [
        "# Import useful libraries\n",
        "import pandas as pd\n",
        "import numpy as np\n",
        "import matplotlib.pyplot as plt\n",
        "plt.style.use('seaborn-paper')\n",
        "import seaborn as sns; sns.set()\n",
        "import math"
      ]
    },
    {
      "cell_type": "code",
      "execution_count": 2,
      "metadata": {
        "id": "o11rZCJNZTyy"
      },
      "outputs": [],
      "source": [
        "#Read Excel/CSV File\n",
        "\n",
        "# pd__fam_12m_df = pd.read_excel(\"/content/drive/My Drive/CS506 DataScience/Final Project/Deliverable 1/poverty_line_analysis/PS_families_12.xlsx\", sheet_name='Data')\n",
        "# pd_12m_df = pd.read_excel(\"/content/drive/My Drive/CS506 DataScience/Final Project/Deliverable 1/poverty_line_analysis/ps_12.xlsx\", sheet_name='Data')\n",
        "# income_population_df = pd.read_excel('/content/drive/My Drive/CS506 DataScience/Final Project/Deliverable 1/poverty_line_analysis/IncomeRanges.xlsx', sheet_name=\"Data\")\n",
        "# pd__fam_12m_df.head()\n",
        "# pd_12m_df\n",
        "\n",
        "pd__fam_12m_df = pd.read_excel(\"./PS_families_12.xlsx\", sheet_name='Data')\n",
        "pd_12m_df = pd.read_excel(\"./ps_12.xlsx\", sheet_name='Data')\n",
        "income_population_df = pd.read_excel('./IncomeRanges.xlsx', sheet_name=\"Data\")\n"
      ]
    },
    {
      "cell_type": "code",
      "execution_count": 3,
      "metadata": {
        "id": "o7XC40Usf7iw"
      },
      "outputs": [],
      "source": [
        "# Rename columns for better understanding\n",
        "pd__fam_12m_df.rename(columns={'Percent below poverty level': '% Families below poverty level', \n",
        "                          'Percent below poverty level.1': '% Married-couple families below poverty level', \n",
        "                          'Percent below poverty level.2': '% Female householder families below poverty level'}, \n",
        "                 inplace=True)"
      ]
    },
    {
      "cell_type": "code",
      "execution_count": 4,
      "metadata": {
        "colab": {
          "base_uri": "https://localhost:8080/",
          "height": 462
        },
        "id": "UxpFazHqbdsA",
        "outputId": "785c5765-0ac9-4a1a-83cb-27c089bfc3f8"
      },
      "outputs": [
        {
          "data": {
            "text/html": [
              "<div>\n",
              "<style scoped>\n",
              "    .dataframe tbody tr th:only-of-type {\n",
              "        vertical-align: middle;\n",
              "    }\n",
              "\n",
              "    .dataframe tbody tr th {\n",
              "        vertical-align: top;\n",
              "    }\n",
              "\n",
              "    .dataframe thead th {\n",
              "        text-align: right;\n",
              "    }\n",
              "</style>\n",
              "<table border=\"1\" class=\"dataframe\">\n",
              "  <thead>\n",
              "    <tr style=\"text-align: right;\">\n",
              "      <th></th>\n",
              "      <th>Category</th>\n",
              "      <th>All families</th>\n",
              "      <th>% Families below poverty level</th>\n",
              "      <th>Married-couple families</th>\n",
              "      <th>% Married-couple families below poverty level</th>\n",
              "      <th>Female householder, no spouse present</th>\n",
              "      <th>% Female householder families below poverty level</th>\n",
              "    </tr>\n",
              "  </thead>\n",
              "  <tbody>\n",
              "    <tr>\n",
              "      <th>7</th>\n",
              "      <td>White alone</td>\n",
              "      <td>843,644</td>\n",
              "      <td>4.2%</td>\n",
              "      <td>674,728</td>\n",
              "      <td>1.8%</td>\n",
              "      <td>119,209</td>\n",
              "      <td>15.6%</td>\n",
              "    </tr>\n",
              "    <tr>\n",
              "      <th>8</th>\n",
              "      <td>Black or African American alone</td>\n",
              "      <td>75,469</td>\n",
              "      <td>10.5%</td>\n",
              "      <td>38,213</td>\n",
              "      <td>3.6%</td>\n",
              "      <td>29,244</td>\n",
              "      <td>19.2%</td>\n",
              "    </tr>\n",
              "    <tr>\n",
              "      <th>9</th>\n",
              "      <td>American Indian and Alaska Native alone</td>\n",
              "      <td>NaN</td>\n",
              "      <td>NaN</td>\n",
              "      <td>NaN</td>\n",
              "      <td>NaN</td>\n",
              "      <td>NaN</td>\n",
              "      <td>NaN</td>\n",
              "    </tr>\n",
              "    <tr>\n",
              "      <th>10</th>\n",
              "      <td>Asian alone</td>\n",
              "      <td>102,142</td>\n",
              "      <td>7.9%</td>\n",
              "      <td>83,815</td>\n",
              "      <td>5.8%</td>\n",
              "      <td>11,821</td>\n",
              "      <td>18.2%</td>\n",
              "    </tr>\n",
              "    <tr>\n",
              "      <th>11</th>\n",
              "      <td>Native Hawaiian and Other Pacific Islander alone</td>\n",
              "      <td>NaN</td>\n",
              "      <td>NaN</td>\n",
              "      <td>NaN</td>\n",
              "      <td>NaN</td>\n",
              "      <td>NaN</td>\n",
              "      <td>NaN</td>\n",
              "    </tr>\n",
              "    <tr>\n",
              "      <th>12</th>\n",
              "      <td>Some other race alone</td>\n",
              "      <td>61,597</td>\n",
              "      <td>16.7%</td>\n",
              "      <td>33,187</td>\n",
              "      <td>10.8%</td>\n",
              "      <td>20,428</td>\n",
              "      <td>30.4%</td>\n",
              "    </tr>\n",
              "    <tr>\n",
              "      <th>13</th>\n",
              "      <td>Two or more races</td>\n",
              "      <td>109,136</td>\n",
              "      <td>13.6%</td>\n",
              "      <td>72,231</td>\n",
              "      <td>7.9%</td>\n",
              "      <td>27,507</td>\n",
              "      <td>26.8%</td>\n",
              "    </tr>\n",
              "    <tr>\n",
              "      <th>14</th>\n",
              "      <td>Hispanic or Latino origin (of any race)</td>\n",
              "      <td>127,641</td>\n",
              "      <td>19.2%</td>\n",
              "      <td>70,912</td>\n",
              "      <td>10.6%</td>\n",
              "      <td>42,503</td>\n",
              "      <td>34.4%</td>\n",
              "    </tr>\n",
              "    <tr>\n",
              "      <th>15</th>\n",
              "      <td>White alone, not Hispanic or Latino</td>\n",
              "      <td>829,294</td>\n",
              "      <td>3.9%</td>\n",
              "      <td>666,519</td>\n",
              "      <td>1.8%</td>\n",
              "      <td>114,862</td>\n",
              "      <td>14.2%</td>\n",
              "    </tr>\n",
              "  </tbody>\n",
              "</table>\n",
              "</div>"
            ],
            "text/plain": [
              "                                            Category All families  \\\n",
              "7                                        White alone      843,644   \n",
              "8                    Black or African American alone       75,469   \n",
              "9            American Indian and Alaska Native alone          NaN   \n",
              "10                                       Asian alone      102,142   \n",
              "11  Native Hawaiian and Other Pacific Islander alone          NaN   \n",
              "12                             Some other race alone       61,597   \n",
              "13                                 Two or more races      109,136   \n",
              "14           Hispanic or Latino origin (of any race)      127,641   \n",
              "15               White alone, not Hispanic or Latino      829,294   \n",
              "\n",
              "   % Families below poverty level Married-couple families  \\\n",
              "7                            4.2%                 674,728   \n",
              "8                           10.5%                  38,213   \n",
              "9                             NaN                     NaN   \n",
              "10                           7.9%                  83,815   \n",
              "11                            NaN                     NaN   \n",
              "12                          16.7%                  33,187   \n",
              "13                          13.6%                  72,231   \n",
              "14                          19.2%                  70,912   \n",
              "15                           3.9%                 666,519   \n",
              "\n",
              "   % Married-couple families below poverty level  \\\n",
              "7                                           1.8%   \n",
              "8                                           3.6%   \n",
              "9                                            NaN   \n",
              "10                                          5.8%   \n",
              "11                                           NaN   \n",
              "12                                         10.8%   \n",
              "13                                          7.9%   \n",
              "14                                         10.6%   \n",
              "15                                          1.8%   \n",
              "\n",
              "   Female householder, no spouse present  \\\n",
              "7                                119,209   \n",
              "8                                 29,244   \n",
              "9                                    NaN   \n",
              "10                                11,821   \n",
              "11                                   NaN   \n",
              "12                                20,428   \n",
              "13                                27,507   \n",
              "14                                42,503   \n",
              "15                               114,862   \n",
              "\n",
              "   % Female householder families below poverty level  \n",
              "7                                              15.6%  \n",
              "8                                              19.2%  \n",
              "9                                                NaN  \n",
              "10                                             18.2%  \n",
              "11                                               NaN  \n",
              "12                                             30.4%  \n",
              "13                                             26.8%  \n",
              "14                                             34.4%  \n",
              "15                                             14.2%  "
            ]
          },
          "execution_count": 4,
          "metadata": {},
          "output_type": "execute_result"
        }
      ],
      "source": [
        "# Dataframe with poverty distribution based on ethnicity of householder\n",
        "df_ps_ethnicity = pd__fam_12m_df[7:16]\n",
        "df_ps_ethnicity"
      ]
    },
    {
      "cell_type": "code",
      "execution_count": 5,
      "metadata": {
        "colab": {
          "base_uri": "https://localhost:8080/",
          "height": 469
        },
        "id": "KnY2ec0fcgoo",
        "outputId": "9f7e2526-55b5-438c-dca2-3ce9d91ef4c2"
      },
      "outputs": [
        {
          "name": "stderr",
          "output_type": "stream",
          "text": [
            "C:\\Users\\patte\\AppData\\Local\\Temp\\ipykernel_35376\\4262343889.py:2: SettingWithCopyWarning: \n",
            "A value is trying to be set on a copy of a slice from a DataFrame\n",
            "\n",
            "See the caveats in the documentation: https://pandas.pydata.org/pandas-docs/stable/user_guide/indexing.html#returning-a-view-versus-a-copy\n",
            "  df_ps_ethnicity.dropna(axis = 0, how='any', inplace=True)\n"
          ]
        },
        {
          "data": {
            "text/html": [
              "<div>\n",
              "<style scoped>\n",
              "    .dataframe tbody tr th:only-of-type {\n",
              "        vertical-align: middle;\n",
              "    }\n",
              "\n",
              "    .dataframe tbody tr th {\n",
              "        vertical-align: top;\n",
              "    }\n",
              "\n",
              "    .dataframe thead th {\n",
              "        text-align: right;\n",
              "    }\n",
              "</style>\n",
              "<table border=\"1\" class=\"dataframe\">\n",
              "  <thead>\n",
              "    <tr style=\"text-align: right;\">\n",
              "      <th></th>\n",
              "      <th>Category</th>\n",
              "      <th>All families</th>\n",
              "      <th>% Families below poverty level</th>\n",
              "      <th>Married-couple families</th>\n",
              "      <th>% Married-couple families below poverty level</th>\n",
              "      <th>Female householder, no spouse present</th>\n",
              "      <th>% Female householder families below poverty level</th>\n",
              "    </tr>\n",
              "  </thead>\n",
              "  <tbody>\n",
              "    <tr>\n",
              "      <th>7</th>\n",
              "      <td>White alone</td>\n",
              "      <td>843,644</td>\n",
              "      <td>4.2%</td>\n",
              "      <td>674,728</td>\n",
              "      <td>1.8%</td>\n",
              "      <td>119,209</td>\n",
              "      <td>15.6%</td>\n",
              "    </tr>\n",
              "    <tr>\n",
              "      <th>8</th>\n",
              "      <td>Black or African American alone</td>\n",
              "      <td>75,469</td>\n",
              "      <td>10.5%</td>\n",
              "      <td>38,213</td>\n",
              "      <td>3.6%</td>\n",
              "      <td>29,244</td>\n",
              "      <td>19.2%</td>\n",
              "    </tr>\n",
              "    <tr>\n",
              "      <th>10</th>\n",
              "      <td>Asian alone</td>\n",
              "      <td>102,142</td>\n",
              "      <td>7.9%</td>\n",
              "      <td>83,815</td>\n",
              "      <td>5.8%</td>\n",
              "      <td>11,821</td>\n",
              "      <td>18.2%</td>\n",
              "    </tr>\n",
              "    <tr>\n",
              "      <th>12</th>\n",
              "      <td>Some other race alone</td>\n",
              "      <td>61,597</td>\n",
              "      <td>16.7%</td>\n",
              "      <td>33,187</td>\n",
              "      <td>10.8%</td>\n",
              "      <td>20,428</td>\n",
              "      <td>30.4%</td>\n",
              "    </tr>\n",
              "    <tr>\n",
              "      <th>13</th>\n",
              "      <td>Two or more races</td>\n",
              "      <td>109,136</td>\n",
              "      <td>13.6%</td>\n",
              "      <td>72,231</td>\n",
              "      <td>7.9%</td>\n",
              "      <td>27,507</td>\n",
              "      <td>26.8%</td>\n",
              "    </tr>\n",
              "    <tr>\n",
              "      <th>14</th>\n",
              "      <td>Hispanic or Latino origin (of any race)</td>\n",
              "      <td>127,641</td>\n",
              "      <td>19.2%</td>\n",
              "      <td>70,912</td>\n",
              "      <td>10.6%</td>\n",
              "      <td>42,503</td>\n",
              "      <td>34.4%</td>\n",
              "    </tr>\n",
              "    <tr>\n",
              "      <th>15</th>\n",
              "      <td>White alone, not Hispanic or Latino</td>\n",
              "      <td>829,294</td>\n",
              "      <td>3.9%</td>\n",
              "      <td>666,519</td>\n",
              "      <td>1.8%</td>\n",
              "      <td>114,862</td>\n",
              "      <td>14.2%</td>\n",
              "    </tr>\n",
              "  </tbody>\n",
              "</table>\n",
              "</div>"
            ],
            "text/plain": [
              "                                   Category All families  \\\n",
              "7                               White alone      843,644   \n",
              "8           Black or African American alone       75,469   \n",
              "10                              Asian alone      102,142   \n",
              "12                    Some other race alone       61,597   \n",
              "13                        Two or more races      109,136   \n",
              "14  Hispanic or Latino origin (of any race)      127,641   \n",
              "15      White alone, not Hispanic or Latino      829,294   \n",
              "\n",
              "   % Families below poverty level Married-couple families  \\\n",
              "7                            4.2%                 674,728   \n",
              "8                           10.5%                  38,213   \n",
              "10                           7.9%                  83,815   \n",
              "12                          16.7%                  33,187   \n",
              "13                          13.6%                  72,231   \n",
              "14                          19.2%                  70,912   \n",
              "15                           3.9%                 666,519   \n",
              "\n",
              "   % Married-couple families below poverty level  \\\n",
              "7                                           1.8%   \n",
              "8                                           3.6%   \n",
              "10                                          5.8%   \n",
              "12                                         10.8%   \n",
              "13                                          7.9%   \n",
              "14                                         10.6%   \n",
              "15                                          1.8%   \n",
              "\n",
              "   Female householder, no spouse present  \\\n",
              "7                                119,209   \n",
              "8                                 29,244   \n",
              "10                                11,821   \n",
              "12                                20,428   \n",
              "13                                27,507   \n",
              "14                                42,503   \n",
              "15                               114,862   \n",
              "\n",
              "   % Female householder families below poverty level  \n",
              "7                                              15.6%  \n",
              "8                                              19.2%  \n",
              "10                                             18.2%  \n",
              "12                                             30.4%  \n",
              "13                                             26.8%  \n",
              "14                                             34.4%  \n",
              "15                                             14.2%  "
            ]
          },
          "execution_count": 5,
          "metadata": {},
          "output_type": "execute_result"
        }
      ],
      "source": [
        "# drop rows containing null values\n",
        "df_ps_ethnicity.dropna(axis = 0, how='any', inplace=True)\n",
        "df_ps_ethnicity"
      ]
    },
    {
      "cell_type": "code",
      "execution_count": 6,
      "metadata": {
        "colab": {
          "base_uri": "https://localhost:8080/"
        },
        "id": "r1z7S-TOh8Jw",
        "outputId": "3d9b8ae7-9a05-4291-a50b-9c69c224a897"
      },
      "outputs": [
        {
          "name": "stdout",
          "output_type": "stream",
          "text": [
            "<class 'pandas.core.frame.DataFrame'>\n",
            "Int64Index: 7 entries, 7 to 15\n",
            "Data columns (total 7 columns):\n",
            " #   Column                                             Non-Null Count  Dtype  \n",
            "---  ------                                             --------------  -----  \n",
            " 0   Category                                           7 non-null      object \n",
            " 1   All families                                       7 non-null      object \n",
            " 2   % Families below poverty level                     7 non-null      float64\n",
            " 3   Married-couple families                            7 non-null      object \n",
            " 4   % Married-couple families below poverty level      7 non-null      float64\n",
            " 5   Female householder, no spouse present              7 non-null      object \n",
            " 6   % Female householder families below poverty level  7 non-null      float64\n",
            "dtypes: float64(3), object(4)\n",
            "memory usage: 448.0+ bytes\n"
          ]
        },
        {
          "name": "stderr",
          "output_type": "stream",
          "text": [
            "C:\\Users\\patte\\AppData\\Local\\Temp\\ipykernel_35376\\253069289.py:2: SettingWithCopyWarning: \n",
            "A value is trying to be set on a copy of a slice from a DataFrame.\n",
            "Try using .loc[row_indexer,col_indexer] = value instead\n",
            "\n",
            "See the caveats in the documentation: https://pandas.pydata.org/pandas-docs/stable/user_guide/indexing.html#returning-a-view-versus-a-copy\n",
            "  df_ps_ethnicity['% Families below poverty level'] = (df_ps_ethnicity['% Families below poverty level']).str.replace('%', '')\n",
            "C:\\Users\\patte\\AppData\\Local\\Temp\\ipykernel_35376\\253069289.py:3: SettingWithCopyWarning: \n",
            "A value is trying to be set on a copy of a slice from a DataFrame.\n",
            "Try using .loc[row_indexer,col_indexer] = value instead\n",
            "\n",
            "See the caveats in the documentation: https://pandas.pydata.org/pandas-docs/stable/user_guide/indexing.html#returning-a-view-versus-a-copy\n",
            "  df_ps_ethnicity['% Families below poverty level'] = df_ps_ethnicity['% Families below poverty level'].astype(float)\n",
            "C:\\Users\\patte\\AppData\\Local\\Temp\\ipykernel_35376\\253069289.py:4: SettingWithCopyWarning: \n",
            "A value is trying to be set on a copy of a slice from a DataFrame.\n",
            "Try using .loc[row_indexer,col_indexer] = value instead\n",
            "\n",
            "See the caveats in the documentation: https://pandas.pydata.org/pandas-docs/stable/user_guide/indexing.html#returning-a-view-versus-a-copy\n",
            "  df_ps_ethnicity['% Married-couple families below poverty level'] = (df_ps_ethnicity['% Married-couple families below poverty level']).str.replace('%', '')\n",
            "C:\\Users\\patte\\AppData\\Local\\Temp\\ipykernel_35376\\253069289.py:5: SettingWithCopyWarning: \n",
            "A value is trying to be set on a copy of a slice from a DataFrame.\n",
            "Try using .loc[row_indexer,col_indexer] = value instead\n",
            "\n",
            "See the caveats in the documentation: https://pandas.pydata.org/pandas-docs/stable/user_guide/indexing.html#returning-a-view-versus-a-copy\n",
            "  df_ps_ethnicity['% Married-couple families below poverty level'] = df_ps_ethnicity['% Married-couple families below poverty level'].astype(float)\n",
            "C:\\Users\\patte\\AppData\\Local\\Temp\\ipykernel_35376\\253069289.py:6: SettingWithCopyWarning: \n",
            "A value is trying to be set on a copy of a slice from a DataFrame.\n",
            "Try using .loc[row_indexer,col_indexer] = value instead\n",
            "\n",
            "See the caveats in the documentation: https://pandas.pydata.org/pandas-docs/stable/user_guide/indexing.html#returning-a-view-versus-a-copy\n",
            "  df_ps_ethnicity['% Female householder families below poverty level'] = (df_ps_ethnicity['% Female householder families below poverty level']).str.replace('%', '')\n",
            "C:\\Users\\patte\\AppData\\Local\\Temp\\ipykernel_35376\\253069289.py:7: SettingWithCopyWarning: \n",
            "A value is trying to be set on a copy of a slice from a DataFrame.\n",
            "Try using .loc[row_indexer,col_indexer] = value instead\n",
            "\n",
            "See the caveats in the documentation: https://pandas.pydata.org/pandas-docs/stable/user_guide/indexing.html#returning-a-view-versus-a-copy\n",
            "  df_ps_ethnicity['% Female householder families below poverty level'] = df_ps_ethnicity['% Female householder families below poverty level'].astype(float)\n"
          ]
        }
      ],
      "source": [
        "# Rename columns for better understanding\n",
        "df_ps_ethnicity['% Families below poverty level'] = (df_ps_ethnicity['% Families below poverty level']).str.replace('%', '')\n",
        "df_ps_ethnicity['% Families below poverty level'] = df_ps_ethnicity['% Families below poverty level'].astype(float)\n",
        "df_ps_ethnicity['% Married-couple families below poverty level'] = (df_ps_ethnicity['% Married-couple families below poverty level']).str.replace('%', '')\n",
        "df_ps_ethnicity['% Married-couple families below poverty level'] = df_ps_ethnicity['% Married-couple families below poverty level'].astype(float)\n",
        "df_ps_ethnicity['% Female householder families below poverty level'] = (df_ps_ethnicity['% Female householder families below poverty level']).str.replace('%', '')\n",
        "df_ps_ethnicity['% Female householder families below poverty level'] = df_ps_ethnicity['% Female householder families below poverty level'].astype(float)\n",
        "df_ps_ethnicity.info()"
      ]
    },
    {
      "cell_type": "code",
      "execution_count": 7,
      "metadata": {
        "id": "zbZYAoXKK8CM"
      },
      "outputs": [],
      "source": [
        "income_population_df = income_population_df[income_population_df.columns.drop(list(income_population_df.filter(regex='Margin of Error')))]\n",
        "income_population_df.rename(columns= {'Estimate': 'Total number of people', 'Estimate.1': 'Number of people below poverty line'}, inplace=True)\n",
        "income_population_df.isna().sum()\n",
        "income_population_df.rename(columns={'Boston-Cambridge-Newton, MA-NH Metro Area!!Households!!Estimate': 'Household', 'Boston-Cambridge-Newton, MA-NH Metro Area!!Families!!Estimate': 'Families',  'Boston-Cambridge-Newton, MA-NH Metro Area!!Married-couple families!!Estimate' : 'Married Couple Families', 'Boston-Cambridge-Newton, MA-NH Metro Area!!Nonfamily households!!Estimate': 'Non Family Households', 'Label (Grouping)': 'Category'}, inplace=True)\n",
        "income_population_df = income_population_df[1:11]"
      ]
    },
    {
      "cell_type": "code",
      "execution_count": 8,
      "metadata": {
        "colab": {
          "base_uri": "https://localhost:8080/",
          "height": 363
        },
        "id": "FIHLsZEYMQ8w",
        "outputId": "cfe6cf89-69ef-4b5e-999b-b6ea6fb654bc"
      },
      "outputs": [
        {
          "data": {
            "text/html": [
              "<div>\n",
              "<style scoped>\n",
              "    .dataframe tbody tr th:only-of-type {\n",
              "        vertical-align: middle;\n",
              "    }\n",
              "\n",
              "    .dataframe tbody tr th {\n",
              "        vertical-align: top;\n",
              "    }\n",
              "\n",
              "    .dataframe thead th {\n",
              "        text-align: right;\n",
              "    }\n",
              "</style>\n",
              "<table border=\"1\" class=\"dataframe\">\n",
              "  <thead>\n",
              "    <tr style=\"text-align: right;\">\n",
              "      <th></th>\n",
              "      <th>Label</th>\n",
              "      <th>Households</th>\n",
              "      <th>Families</th>\n",
              "      <th>Married-couple families</th>\n",
              "      <th>Nonfamily households</th>\n",
              "    </tr>\n",
              "  </thead>\n",
              "  <tbody>\n",
              "    <tr>\n",
              "      <th>1</th>\n",
              "      <td>Less than $10,000</td>\n",
              "      <td>5.0%</td>\n",
              "      <td>2.7%</td>\n",
              "      <td>1.1%</td>\n",
              "      <td>9.4%</td>\n",
              "    </tr>\n",
              "    <tr>\n",
              "      <th>2</th>\n",
              "      <td>$10,000 to $14,999</td>\n",
              "      <td>3.5%</td>\n",
              "      <td>1.8%</td>\n",
              "      <td>0.9%</td>\n",
              "      <td>6.7%</td>\n",
              "    </tr>\n",
              "    <tr>\n",
              "      <th>3</th>\n",
              "      <td>$15,000 to $24,999</td>\n",
              "      <td>5.3%</td>\n",
              "      <td>3.2%</td>\n",
              "      <td>1.7%</td>\n",
              "      <td>9.1%</td>\n",
              "    </tr>\n",
              "    <tr>\n",
              "      <th>4</th>\n",
              "      <td>$25,000 to $34,999</td>\n",
              "      <td>4.9%</td>\n",
              "      <td>3.7%</td>\n",
              "      <td>2.1%</td>\n",
              "      <td>7.3%</td>\n",
              "    </tr>\n",
              "    <tr>\n",
              "      <th>5</th>\n",
              "      <td>$35,000 to $49,999</td>\n",
              "      <td>7.4%</td>\n",
              "      <td>6.1%</td>\n",
              "      <td>4.4%</td>\n",
              "      <td>10.0%</td>\n",
              "    </tr>\n",
              "    <tr>\n",
              "      <th>6</th>\n",
              "      <td>$50,000 to $74,999</td>\n",
              "      <td>12.4%</td>\n",
              "      <td>10.6%</td>\n",
              "      <td>9.1%</td>\n",
              "      <td>15.8%</td>\n",
              "    </tr>\n",
              "    <tr>\n",
              "      <th>7</th>\n",
              "      <td>$75,000 to $99,999</td>\n",
              "      <td>11.1%</td>\n",
              "      <td>10.8%</td>\n",
              "      <td>10.2%</td>\n",
              "      <td>11.8%</td>\n",
              "    </tr>\n",
              "    <tr>\n",
              "      <th>8</th>\n",
              "      <td>$100,000 to $149,999</td>\n",
              "      <td>18.1%</td>\n",
              "      <td>19.9%</td>\n",
              "      <td>20.7%</td>\n",
              "      <td>14.7%</td>\n",
              "    </tr>\n",
              "    <tr>\n",
              "      <th>9</th>\n",
              "      <td>$150,000 to $199,999</td>\n",
              "      <td>11.9%</td>\n",
              "      <td>14.5%</td>\n",
              "      <td>16.9%</td>\n",
              "      <td>6.9%</td>\n",
              "    </tr>\n",
              "    <tr>\n",
              "      <th>10</th>\n",
              "      <td>$200,000 or more</td>\n",
              "      <td>20.3%</td>\n",
              "      <td>26.8%</td>\n",
              "      <td>32.9%</td>\n",
              "      <td>8.3%</td>\n",
              "    </tr>\n",
              "  </tbody>\n",
              "</table>\n",
              "</div>"
            ],
            "text/plain": [
              "                   Label Households Families Married-couple families  \\\n",
              "1      Less than $10,000       5.0%     2.7%                    1.1%   \n",
              "2     $10,000 to $14,999       3.5%     1.8%                    0.9%   \n",
              "3     $15,000 to $24,999       5.3%     3.2%                    1.7%   \n",
              "4     $25,000 to $34,999       4.9%     3.7%                    2.1%   \n",
              "5     $35,000 to $49,999       7.4%     6.1%                    4.4%   \n",
              "6     $50,000 to $74,999      12.4%    10.6%                    9.1%   \n",
              "7     $75,000 to $99,999      11.1%    10.8%                   10.2%   \n",
              "8   $100,000 to $149,999      18.1%    19.9%                   20.7%   \n",
              "9   $150,000 to $199,999      11.9%    14.5%                   16.9%   \n",
              "10      $200,000 or more      20.3%    26.8%                   32.9%   \n",
              "\n",
              "   Nonfamily households  \n",
              "1                  9.4%  \n",
              "2                  6.7%  \n",
              "3                  9.1%  \n",
              "4                  7.3%  \n",
              "5                 10.0%  \n",
              "6                 15.8%  \n",
              "7                 11.8%  \n",
              "8                 14.7%  \n",
              "9                  6.9%  \n",
              "10                 8.3%  "
            ]
          },
          "execution_count": 8,
          "metadata": {},
          "output_type": "execute_result"
        }
      ],
      "source": [
        "income_population_df"
      ]
    },
    {
      "cell_type": "code",
      "execution_count": 9,
      "metadata": {
        "id": "yVNtuUaFMY24"
      },
      "outputs": [],
      "source": [
        "income_population_df = income_population_df[1:11]"
      ]
    },
    {
      "cell_type": "code",
      "execution_count": 10,
      "metadata": {
        "colab": {
          "base_uri": "https://localhost:8080/"
        },
        "id": "9RNQCzLALbzn",
        "outputId": "31c6d15c-8893-4fc3-cdb5-03a09d86635b"
      },
      "outputs": [
        {
          "name": "stdout",
          "output_type": "stream",
          "text": [
            "<class 'pandas.core.frame.DataFrame'>\n",
            "RangeIndex: 9 entries, 2 to 10\n",
            "Data columns (total 5 columns):\n",
            " #   Column                   Non-Null Count  Dtype  \n",
            "---  ------                   --------------  -----  \n",
            " 0   Label                    9 non-null      object \n",
            " 1   Households               9 non-null      float64\n",
            " 2   Families                 9 non-null      float64\n",
            " 3   Married-couple families  9 non-null      float64\n",
            " 4   Nonfamily households     9 non-null      float64\n",
            "dtypes: float64(4), object(1)\n",
            "memory usage: 492.0+ bytes\n"
          ]
        },
        {
          "name": "stderr",
          "output_type": "stream",
          "text": [
            "C:\\Users\\patte\\AppData\\Local\\Temp\\ipykernel_35376\\97488483.py:1: SettingWithCopyWarning: \n",
            "A value is trying to be set on a copy of a slice from a DataFrame.\n",
            "Try using .loc[row_indexer,col_indexer] = value instead\n",
            "\n",
            "See the caveats in the documentation: https://pandas.pydata.org/pandas-docs/stable/user_guide/indexing.html#returning-a-view-versus-a-copy\n",
            "  income_population_df['Households'] = (income_population_df['Households']).str.replace('%', '')\n",
            "C:\\Users\\patte\\AppData\\Local\\Temp\\ipykernel_35376\\97488483.py:2: SettingWithCopyWarning: \n",
            "A value is trying to be set on a copy of a slice from a DataFrame.\n",
            "Try using .loc[row_indexer,col_indexer] = value instead\n",
            "\n",
            "See the caveats in the documentation: https://pandas.pydata.org/pandas-docs/stable/user_guide/indexing.html#returning-a-view-versus-a-copy\n",
            "  income_population_df['Households'] = income_population_df['Households'].astype(float)\n",
            "C:\\Users\\patte\\AppData\\Local\\Temp\\ipykernel_35376\\97488483.py:3: SettingWithCopyWarning: \n",
            "A value is trying to be set on a copy of a slice from a DataFrame.\n",
            "Try using .loc[row_indexer,col_indexer] = value instead\n",
            "\n",
            "See the caveats in the documentation: https://pandas.pydata.org/pandas-docs/stable/user_guide/indexing.html#returning-a-view-versus-a-copy\n",
            "  income_population_df['Families'] = (income_population_df['Families']).str.replace('%', '')\n",
            "C:\\Users\\patte\\AppData\\Local\\Temp\\ipykernel_35376\\97488483.py:4: SettingWithCopyWarning: \n",
            "A value is trying to be set on a copy of a slice from a DataFrame.\n",
            "Try using .loc[row_indexer,col_indexer] = value instead\n",
            "\n",
            "See the caveats in the documentation: https://pandas.pydata.org/pandas-docs/stable/user_guide/indexing.html#returning-a-view-versus-a-copy\n",
            "  income_population_df['Families'] = income_population_df['Families'].astype(float)\n",
            "C:\\Users\\patte\\AppData\\Local\\Temp\\ipykernel_35376\\97488483.py:5: SettingWithCopyWarning: \n",
            "A value is trying to be set on a copy of a slice from a DataFrame.\n",
            "Try using .loc[row_indexer,col_indexer] = value instead\n",
            "\n",
            "See the caveats in the documentation: https://pandas.pydata.org/pandas-docs/stable/user_guide/indexing.html#returning-a-view-versus-a-copy\n",
            "  income_population_df['Married-couple families'] = (income_population_df['Married-couple families']).str.replace('%', '')\n",
            "C:\\Users\\patte\\AppData\\Local\\Temp\\ipykernel_35376\\97488483.py:6: SettingWithCopyWarning: \n",
            "A value is trying to be set on a copy of a slice from a DataFrame.\n",
            "Try using .loc[row_indexer,col_indexer] = value instead\n",
            "\n",
            "See the caveats in the documentation: https://pandas.pydata.org/pandas-docs/stable/user_guide/indexing.html#returning-a-view-versus-a-copy\n",
            "  income_population_df['Married-couple families'] = income_population_df['Married-couple families'].astype(float)\n",
            "C:\\Users\\patte\\AppData\\Local\\Temp\\ipykernel_35376\\97488483.py:7: SettingWithCopyWarning: \n",
            "A value is trying to be set on a copy of a slice from a DataFrame.\n",
            "Try using .loc[row_indexer,col_indexer] = value instead\n",
            "\n",
            "See the caveats in the documentation: https://pandas.pydata.org/pandas-docs/stable/user_guide/indexing.html#returning-a-view-versus-a-copy\n",
            "  income_population_df['Nonfamily households'] = (income_population_df['Nonfamily households']).str.replace('%', '')\n",
            "C:\\Users\\patte\\AppData\\Local\\Temp\\ipykernel_35376\\97488483.py:8: SettingWithCopyWarning: \n",
            "A value is trying to be set on a copy of a slice from a DataFrame.\n",
            "Try using .loc[row_indexer,col_indexer] = value instead\n",
            "\n",
            "See the caveats in the documentation: https://pandas.pydata.org/pandas-docs/stable/user_guide/indexing.html#returning-a-view-versus-a-copy\n",
            "  income_population_df['Nonfamily households'] = income_population_df['Nonfamily households'].astype(float)\n"
          ]
        }
      ],
      "source": [
        "income_population_df['Households'] = (income_population_df['Households']).str.replace('%', '')\n",
        "income_population_df['Households'] = income_population_df['Households'].astype(float)\n",
        "income_population_df['Families'] = (income_population_df['Families']).str.replace('%', '')\n",
        "income_population_df['Families'] = income_population_df['Families'].astype(float)\n",
        "income_population_df['Married-couple families'] = (income_population_df['Married-couple families']).str.replace('%', '')\n",
        "income_population_df['Married-couple families'] = income_population_df['Married-couple families'].astype(float)\n",
        "income_population_df['Nonfamily households'] = (income_population_df['Nonfamily households']).str.replace('%', '')\n",
        "income_population_df['Nonfamily households'] = income_population_df['Nonfamily households'].astype(float)\n",
        "income_population_df.info()"
      ]
    },
    {
      "cell_type": "code",
      "execution_count": 11,
      "metadata": {
        "colab": {
          "base_uri": "https://localhost:8080/"
        },
        "id": "WFX_JBC0LoH4",
        "outputId": "ca35f4fc-d3d5-4c5c-de30-8a4d72bedf42"
      },
      "outputs": [
        {
          "name": "stderr",
          "output_type": "stream",
          "text": [
            "C:\\Users\\patte\\AppData\\Local\\Temp\\ipykernel_35376\\1878104442.py:1: SettingWithCopyWarning: \n",
            "A value is trying to be set on a copy of a slice from a DataFrame\n",
            "\n",
            "See the caveats in the documentation: https://pandas.pydata.org/pandas-docs/stable/user_guide/indexing.html#returning-a-view-versus-a-copy\n",
            "  income_population_df.rename(columns={'Label': 'Salary Range'}, inplace=True)\n"
          ]
        }
      ],
      "source": [
        "income_population_df.rename(columns={'Label': 'Salary Range'}, inplace=True)"
      ]
    },
    {
      "cell_type": "code",
      "execution_count": 12,
      "metadata": {
        "id": "hR0kCrNYLsSa"
      },
      "outputs": [],
      "source": [
        "income_population_df_mod1 = income_population_df[0:3]\n",
        "income_population_df_mod2= income_population_df[4:11]"
      ]
    },
    {
      "cell_type": "code",
      "execution_count": 13,
      "metadata": {
        "colab": {
          "base_uri": "https://localhost:8080/",
          "height": 576
        },
        "id": "2M1SC-o7gHfW",
        "outputId": "b3f7d26b-cb97-4c2f-97a6-ee76185e6143"
      },
      "outputs": [
        {
          "data": {
            "image/png": "[encoded data removed]",
            "text/plain": [
              "<Figure size 1000x600 with 1 Axes>"
            ]
          },
          "metadata": {},
          "output_type": "display_data"
        }
      ],
      "source": [
        "plt.figure(figsize=(10, 6))\n",
        "plt.barh(df_ps_ethnicity['Category'], df_ps_ethnicity['% Female householder families below poverty level'], color=\"red\", label=\"Female Householder Families\")\n",
        "plt.barh(df_ps_ethnicity['Category'], df_ps_ethnicity['% Families below poverty level'], color=\"orange\", label= \"All Families\")\n",
        "plt.barh(df_ps_ethnicity['Category'], df_ps_ethnicity['% Married-couple families below poverty level'], color=\"blue\", label=\"Married Couple Families\")\n",
        "plt.xlabel(\"% of population below poverty line\")\n",
        "plt.ylabel(\"Ethnicity\")\n",
        "plt.title(\"Ethnicity vs % of population below poverty line\")\n",
        "plt.legend()\n",
        "# plt.xticks(rotation = 90)\n",
        "plt.show()\n"
      ]
    },
    {
      "cell_type": "markdown",
      "metadata": {
        "id": "A47AKGGHe8XE"
      },
      "source": [
        "From above plot we get the distribution of people below poverty line in each of the ethnic group. And in each ethnicity we have different category of people and we can see the percent of people below poverty line are more in case of families who has female as house householder each ethnicity and less in case of people who have married couple as householders. And overall we can see that people belong to hispanic or latino origin have highest poverty population followed by Black or African household."
      ]
    },
    {
      "cell_type": "code",
      "execution_count": 14,
      "metadata": {
        "colab": {
          "base_uri": "https://localhost:8080/",
          "height": 237
        },
        "id": "ecRvtDvpwJqF",
        "outputId": "c1118a46-258a-42f5-953d-ad7987fc8516"
      },
      "outputs": [
        {
          "data": {
            "text/html": [
              "<div>\n",
              "<style scoped>\n",
              "    .dataframe tbody tr th:only-of-type {\n",
              "        vertical-align: middle;\n",
              "    }\n",
              "\n",
              "    .dataframe tbody tr th {\n",
              "        vertical-align: top;\n",
              "    }\n",
              "\n",
              "    .dataframe thead th {\n",
              "        text-align: right;\n",
              "    }\n",
              "</style>\n",
              "<table border=\"1\" class=\"dataframe\">\n",
              "  <thead>\n",
              "    <tr style=\"text-align: right;\">\n",
              "      <th></th>\n",
              "      <th>Category</th>\n",
              "      <th>Total</th>\n",
              "      <th>Below poverty level</th>\n",
              "      <th>Percent below poverty level</th>\n",
              "    </tr>\n",
              "  </thead>\n",
              "  <tbody>\n",
              "    <tr>\n",
              "      <th>0</th>\n",
              "      <td>Male</td>\n",
              "      <td>2,320,185</td>\n",
              "      <td>186,125</td>\n",
              "      <td>8.0%</td>\n",
              "    </tr>\n",
              "    <tr>\n",
              "      <th>1</th>\n",
              "      <td>Female</td>\n",
              "      <td>2,421,477</td>\n",
              "      <td>255,538</td>\n",
              "      <td>10.6%</td>\n",
              "    </tr>\n",
              "    <tr>\n",
              "      <th>2</th>\n",
              "      <td>Employed Male</td>\n",
              "      <td>1,325,756</td>\n",
              "      <td>42,028</td>\n",
              "      <td>3.2%</td>\n",
              "    </tr>\n",
              "    <tr>\n",
              "      <th>3</th>\n",
              "      <td>Employed Female</td>\n",
              "      <td>1,250,962</td>\n",
              "      <td>58,357</td>\n",
              "      <td>4.7%</td>\n",
              "    </tr>\n",
              "    <tr>\n",
              "      <th>4</th>\n",
              "      <td>Unemployed Male</td>\n",
              "      <td>86,967</td>\n",
              "      <td>15,337</td>\n",
              "      <td>17.6%</td>\n",
              "    </tr>\n",
              "    <tr>\n",
              "      <th>5</th>\n",
              "      <td>Umemployed Female</td>\n",
              "      <td>75,444</td>\n",
              "      <td>18,914</td>\n",
              "      <td>25.1%</td>\n",
              "    </tr>\n",
              "  </tbody>\n",
              "</table>\n",
              "</div>"
            ],
            "text/plain": [
              "            Category      Total Below poverty level  \\\n",
              "0               Male  2,320,185             186,125   \n",
              "1             Female  2,421,477             255,538   \n",
              "2      Employed Male  1,325,756              42,028   \n",
              "3    Employed Female  1,250,962              58,357   \n",
              "4    Unemployed Male     86,967              15,337   \n",
              "5  Umemployed Female     75,444              18,914   \n",
              "\n",
              "  Percent below poverty level  \n",
              "0                        8.0%  \n",
              "1                       10.6%  \n",
              "2                        3.2%  \n",
              "3                        4.7%  \n",
              "4                       17.6%  \n",
              "5                       25.1%  "
            ]
          },
          "execution_count": 14,
          "metadata": {},
          "output_type": "execute_result"
        }
      ],
      "source": [
        "# Gender distribution data frame\n",
        "gender_df = pd.concat([pd_12m_df[12:14], pd_12m_df[33:35], pd_12m_df[36:38]], ignore_index=True)\n",
        "gender_df"
      ]
    },
    {
      "cell_type": "code",
      "execution_count": 15,
      "metadata": {
        "id": "1jSV-4zlxaJS"
      },
      "outputs": [],
      "source": [
        "# converting string to float\n",
        "gender_df['Total'] = gender_df['Total'].str.replace(\",\", '')\n",
        "gender_df['Below poverty level'] = gender_df['Below poverty level'].str.replace(\",\", '')\n",
        "gender_df['Total'] = gender_df['Total'].astype(float)\n",
        "gender_df['Below poverty level'] = gender_df['Below poverty level'].astype(float)\n",
        "gender_df['Percent below poverty level'] = (gender_df['Percent below poverty level']).str.replace('%', '')\n",
        "gender_df['Percent below poverty level'] = gender_df['Percent below poverty level'].astype(float)"
      ]
    },
    {
      "cell_type": "code",
      "execution_count": 16,
      "metadata": {
        "colab": {
          "base_uri": "https://localhost:8080/",
          "height": 112
        },
        "id": "TPj8wCnSB_BT",
        "outputId": "d1c213e9-593e-46b0-dd84-47520376ffdf"
      },
      "outputs": [
        {
          "data": {
            "text/html": [
              "<div>\n",
              "<style scoped>\n",
              "    .dataframe tbody tr th:only-of-type {\n",
              "        vertical-align: middle;\n",
              "    }\n",
              "\n",
              "    .dataframe tbody tr th {\n",
              "        vertical-align: top;\n",
              "    }\n",
              "\n",
              "    .dataframe thead th {\n",
              "        text-align: right;\n",
              "    }\n",
              "</style>\n",
              "<table border=\"1\" class=\"dataframe\">\n",
              "  <thead>\n",
              "    <tr style=\"text-align: right;\">\n",
              "      <th></th>\n",
              "      <th>Category</th>\n",
              "      <th>Total</th>\n",
              "      <th>Below poverty level</th>\n",
              "      <th>Percent below poverty level</th>\n",
              "    </tr>\n",
              "  </thead>\n",
              "  <tbody>\n",
              "    <tr>\n",
              "      <th>0</th>\n",
              "      <td>Male</td>\n",
              "      <td>2320185.0</td>\n",
              "      <td>186125.0</td>\n",
              "      <td>8.0</td>\n",
              "    </tr>\n",
              "    <tr>\n",
              "      <th>1</th>\n",
              "      <td>Female</td>\n",
              "      <td>2421477.0</td>\n",
              "      <td>255538.0</td>\n",
              "      <td>10.6</td>\n",
              "    </tr>\n",
              "  </tbody>\n",
              "</table>\n",
              "</div>"
            ],
            "text/plain": [
              "  Category      Total  Below poverty level  Percent below poverty level\n",
              "0     Male  2320185.0             186125.0                          8.0\n",
              "1   Female  2421477.0             255538.0                         10.6"
            ]
          },
          "execution_count": 16,
          "metadata": {},
          "output_type": "execute_result"
        }
      ],
      "source": [
        "mod_gender_df = gender_df[0:2]\n",
        "mod_gender_df"
      ]
    },
    {
      "cell_type": "code",
      "execution_count": 17,
      "metadata": {
        "colab": {
          "base_uri": "https://localhost:8080/",
          "height": 510
        },
        "id": "CtrgNT-qCJ4z",
        "outputId": "c6ef5053-e9d8-489d-ec43-820a012cb76f"
      },
      "outputs": [
        {
          "data": {
            "text/plain": [
              "<Figure size 1000x600 with 0 Axes>"
            ]
          },
          "metadata": {},
          "output_type": "display_data"
        },
        {
          "data": {
            "image/png": "[encoded data removed]",
            "text/plain": [
              "<Figure size 640x440 with 1 Axes>"
            ]
          },
          "metadata": {},
          "output_type": "display_data"
        }
      ],
      "source": [
        "plt.figure(figsize=(10, 6))\n",
        "ax = mod_gender_df.plot.bar(x=\"Category\", y=\"Percent below poverty level\", color=\"blue\", label= \"Below Poverty Line\")\n",
        "ax.set_title(\"Gender vs Percent of population below poverty line\")\n",
        "ax.set_xlabel(\"Gender\")\n",
        "ax.set_ylabel(\"Population\")\n",
        "\n",
        "for container in ax.containers:\n",
        "    ax.bar_label(ax.containers[0])"
      ]
    },
    {
      "cell_type": "code",
      "execution_count": 18,
      "metadata": {
        "colab": {
          "base_uri": "https://localhost:8080/",
          "height": 617
        },
        "id": "figpGsz-ws8s",
        "outputId": "66e24d28-aa96-4c39-d9ba-e10f4173e30b"
      },
      "outputs": [
        {
          "data": {
            "text/plain": [
              "<Figure size 1000x600 with 0 Axes>"
            ]
          },
          "metadata": {},
          "output_type": "display_data"
        },
        {
          "data": {
            "image/png": "[encoded data removed]",
            "text/plain": [
              "<Figure size 640x440 with 1 Axes>"
            ]
          },
          "metadata": {},
          "output_type": "display_data"
        }
      ],
      "source": [
        "# Plotting bar graph for gender vs % population below poverty line \n",
        "# plt.bar(gender_df['Category'], gender_df['Total'], color=\"red\", label=\"Total Population considered for survey\")\n",
        "# plt.bar(gender_df['Category'], gender_df['Below poverty level'], color=\"orange\", label= \"Below Poverty Line\")\n",
        "plt.figure(figsize=(10, 6))\n",
        "ax = gender_df.plot.bar(x=\"Category\", y=\"Percent below poverty level\", color=\"blue\", label= \"Below Poverty Line\")\n",
        "# plt.ylabel(\"% Population\")\n",
        "# plt.xlabel(\"Gender\")\n",
        "# plt.ylim(0, 30)\n",
        "# plt.legend()\n",
        "# plt.xticks(rotation = 90)\n",
        "# plt.title(\"Gender vs % of population below poverty line\")\n",
        "# plt.show()\n",
        "\n",
        "ax.set_title(\"Gender vs Percent of population below poverty line\")\n",
        "ax.set_ylabel(\"Gender Category\")\n",
        "ax.set_xlabel(\"Population\")\n",
        "\n",
        "for container in ax.containers:\n",
        "    ax.bar_label(ax.containers[0])\n",
        "# plt.bar_label()\n",
        "# ax = gender_df.plot.bar(x=gender_df['Category'], y=gender_df['Total'])\n",
        "\n"
      ]
    },
    {
      "cell_type": "markdown",
      "metadata": {
        "id": "UN1gOFkXhi6T"
      },
      "source": [
        "From above plot we can see the percent of population below poverty in relationship with gender. And also based on employment in each gender how percent of population below poverty line is varying. As expected the % of population below poverty line is high incase of female who are unemployed."
      ]
    },
    {
      "cell_type": "code",
      "execution_count": 19,
      "metadata": {
        "colab": {
          "base_uri": "https://localhost:8080/",
          "height": 300
        },
        "id": "xmvIEazjYkEG",
        "outputId": "58c716f0-9aff-4c11-c9d9-6ab8b7763f11"
      },
      "outputs": [
        {
          "data": {
            "text/html": [
              "<div>\n",
              "<style scoped>\n",
              "    .dataframe tbody tr th:only-of-type {\n",
              "        vertical-align: middle;\n",
              "    }\n",
              "\n",
              "    .dataframe tbody tr th {\n",
              "        vertical-align: top;\n",
              "    }\n",
              "\n",
              "    .dataframe thead th {\n",
              "        text-align: right;\n",
              "    }\n",
              "</style>\n",
              "<table border=\"1\" class=\"dataframe\">\n",
              "  <thead>\n",
              "    <tr style=\"text-align: right;\">\n",
              "      <th></th>\n",
              "      <th>Category</th>\n",
              "      <th>Total</th>\n",
              "      <th>Below poverty level</th>\n",
              "      <th>Percent below poverty level</th>\n",
              "    </tr>\n",
              "  </thead>\n",
              "  <tbody>\n",
              "    <tr>\n",
              "      <th>2</th>\n",
              "      <td>Under 18 years</td>\n",
              "      <td>940,401</td>\n",
              "      <td>100,583</td>\n",
              "      <td>10.7%</td>\n",
              "    </tr>\n",
              "    <tr>\n",
              "      <th>3</th>\n",
              "      <td>Under 5 years</td>\n",
              "      <td>241,926</td>\n",
              "      <td>27,334</td>\n",
              "      <td>11.3%</td>\n",
              "    </tr>\n",
              "    <tr>\n",
              "      <th>4</th>\n",
              "      <td>5 to 17 years</td>\n",
              "      <td>698,475</td>\n",
              "      <td>73,249</td>\n",
              "      <td>10.5%</td>\n",
              "    </tr>\n",
              "    <tr>\n",
              "      <th>5</th>\n",
              "      <td>Related children of householder under 18 years</td>\n",
              "      <td>936,617</td>\n",
              "      <td>97,369</td>\n",
              "      <td>10.4%</td>\n",
              "    </tr>\n",
              "    <tr>\n",
              "      <th>6</th>\n",
              "      <td>18 to 64 years</td>\n",
              "      <td>3,012,858</td>\n",
              "      <td>257,060</td>\n",
              "      <td>8.5%</td>\n",
              "    </tr>\n",
              "    <tr>\n",
              "      <th>7</th>\n",
              "      <td>18 to 34 years</td>\n",
              "      <td>1,094,838</td>\n",
              "      <td>113,745</td>\n",
              "      <td>10.4%</td>\n",
              "    </tr>\n",
              "    <tr>\n",
              "      <th>8</th>\n",
              "      <td>35 to 64 years</td>\n",
              "      <td>1,918,020</td>\n",
              "      <td>143,315</td>\n",
              "      <td>7.5%</td>\n",
              "    </tr>\n",
              "    <tr>\n",
              "      <th>9</th>\n",
              "      <td>60 years and over</td>\n",
              "      <td>1,113,052</td>\n",
              "      <td>111,613</td>\n",
              "      <td>10.0%</td>\n",
              "    </tr>\n",
              "  </tbody>\n",
              "</table>\n",
              "</div>"
            ],
            "text/plain": [
              "                                         Category      Total  \\\n",
              "2                                  Under 18 years    940,401   \n",
              "3                                   Under 5 years    241,926   \n",
              "4                                   5 to 17 years    698,475   \n",
              "5  Related children of householder under 18 years    936,617   \n",
              "6                                  18 to 64 years  3,012,858   \n",
              "7                                  18 to 34 years  1,094,838   \n",
              "8                                  35 to 64 years  1,918,020   \n",
              "9                               60 years and over  1,113,052   \n",
              "\n",
              "  Below poverty level Percent below poverty level  \n",
              "2             100,583                       10.7%  \n",
              "3              27,334                       11.3%  \n",
              "4              73,249                       10.5%  \n",
              "5              97,369                       10.4%  \n",
              "6             257,060                        8.5%  \n",
              "7             113,745                       10.4%  \n",
              "8             143,315                        7.5%  \n",
              "9             111,613                       10.0%  "
            ]
          },
          "execution_count": 19,
          "metadata": {},
          "output_type": "execute_result"
        }
      ],
      "source": [
        "pd_12m_df[2:10]"
      ]
    },
    {
      "cell_type": "code",
      "execution_count": 20,
      "metadata": {
        "colab": {
          "base_uri": "https://localhost:8080/",
          "height": 300
        },
        "id": "0Hyv5ajxYwIF",
        "outputId": "db47b721-f724-4639-82bd-7497c659f486"
      },
      "outputs": [
        {
          "data": {
            "text/html": [
              "<div>\n",
              "<style scoped>\n",
              "    .dataframe tbody tr th:only-of-type {\n",
              "        vertical-align: middle;\n",
              "    }\n",
              "\n",
              "    .dataframe tbody tr th {\n",
              "        vertical-align: top;\n",
              "    }\n",
              "\n",
              "    .dataframe thead th {\n",
              "        text-align: right;\n",
              "    }\n",
              "</style>\n",
              "<table border=\"1\" class=\"dataframe\">\n",
              "  <thead>\n",
              "    <tr style=\"text-align: right;\">\n",
              "      <th></th>\n",
              "      <th>Category</th>\n",
              "      <th>Total</th>\n",
              "      <th>Below poverty level</th>\n",
              "      <th>Percent below poverty level</th>\n",
              "    </tr>\n",
              "  </thead>\n",
              "  <tbody>\n",
              "    <tr>\n",
              "      <th>2</th>\n",
              "      <td>Under 18 years</td>\n",
              "      <td>940,401</td>\n",
              "      <td>100,583</td>\n",
              "      <td>10.7%</td>\n",
              "    </tr>\n",
              "    <tr>\n",
              "      <th>3</th>\n",
              "      <td>Under 5 years</td>\n",
              "      <td>241,926</td>\n",
              "      <td>27,334</td>\n",
              "      <td>11.3%</td>\n",
              "    </tr>\n",
              "    <tr>\n",
              "      <th>4</th>\n",
              "      <td>5 to 17 years</td>\n",
              "      <td>698,475</td>\n",
              "      <td>73,249</td>\n",
              "      <td>10.5%</td>\n",
              "    </tr>\n",
              "    <tr>\n",
              "      <th>5</th>\n",
              "      <td>Related children of householder under 18 years</td>\n",
              "      <td>936,617</td>\n",
              "      <td>97,369</td>\n",
              "      <td>10.4%</td>\n",
              "    </tr>\n",
              "    <tr>\n",
              "      <th>6</th>\n",
              "      <td>18 to 64 years</td>\n",
              "      <td>3,012,858</td>\n",
              "      <td>257,060</td>\n",
              "      <td>8.5%</td>\n",
              "    </tr>\n",
              "    <tr>\n",
              "      <th>7</th>\n",
              "      <td>18 to 34 years</td>\n",
              "      <td>1,094,838</td>\n",
              "      <td>113,745</td>\n",
              "      <td>10.4%</td>\n",
              "    </tr>\n",
              "    <tr>\n",
              "      <th>8</th>\n",
              "      <td>35 to 64 years</td>\n",
              "      <td>1,918,020</td>\n",
              "      <td>143,315</td>\n",
              "      <td>7.5%</td>\n",
              "    </tr>\n",
              "    <tr>\n",
              "      <th>9</th>\n",
              "      <td>60 years and over</td>\n",
              "      <td>1,113,052</td>\n",
              "      <td>111,613</td>\n",
              "      <td>10.0%</td>\n",
              "    </tr>\n",
              "  </tbody>\n",
              "</table>\n",
              "</div>"
            ],
            "text/plain": [
              "                                         Category      Total  \\\n",
              "2                                  Under 18 years    940,401   \n",
              "3                                   Under 5 years    241,926   \n",
              "4                                   5 to 17 years    698,475   \n",
              "5  Related children of householder under 18 years    936,617   \n",
              "6                                  18 to 64 years  3,012,858   \n",
              "7                                  18 to 34 years  1,094,838   \n",
              "8                                  35 to 64 years  1,918,020   \n",
              "9                               60 years and over  1,113,052   \n",
              "\n",
              "  Below poverty level Percent below poverty level  \n",
              "2             100,583                       10.7%  \n",
              "3              27,334                       11.3%  \n",
              "4              73,249                       10.5%  \n",
              "5              97,369                       10.4%  \n",
              "6             257,060                        8.5%  \n",
              "7             113,745                       10.4%  \n",
              "8             143,315                        7.5%  \n",
              "9             111,613                       10.0%  "
            ]
          },
          "execution_count": 20,
          "metadata": {},
          "output_type": "execute_result"
        }
      ],
      "source": [
        "ps_age_df = pd_12m_df[2:10]\n",
        "ps_age_df"
      ]
    },
    {
      "cell_type": "code",
      "execution_count": 21,
      "metadata": {
        "colab": {
          "base_uri": "https://localhost:8080/",
          "height": 175
        },
        "id": "tUqmf-4r7o4Y",
        "outputId": "1f2d4e99-6a86-4a69-d548-1b2114f87c50"
      },
      "outputs": [
        {
          "data": {
            "text/html": [
              "<div>\n",
              "<style scoped>\n",
              "    .dataframe tbody tr th:only-of-type {\n",
              "        vertical-align: middle;\n",
              "    }\n",
              "\n",
              "    .dataframe tbody tr th {\n",
              "        vertical-align: top;\n",
              "    }\n",
              "\n",
              "    .dataframe thead th {\n",
              "        text-align: right;\n",
              "    }\n",
              "</style>\n",
              "<table border=\"1\" class=\"dataframe\">\n",
              "  <thead>\n",
              "    <tr style=\"text-align: right;\">\n",
              "      <th></th>\n",
              "      <th>Category</th>\n",
              "      <th>Total</th>\n",
              "      <th>Below poverty level</th>\n",
              "      <th>Percent below poverty level</th>\n",
              "    </tr>\n",
              "  </thead>\n",
              "  <tbody>\n",
              "    <tr>\n",
              "      <th>0</th>\n",
              "      <td>Under 18 years</td>\n",
              "      <td>940,401</td>\n",
              "      <td>100,583</td>\n",
              "      <td>10.7%</td>\n",
              "    </tr>\n",
              "    <tr>\n",
              "      <th>1</th>\n",
              "      <td>18 to 34 years</td>\n",
              "      <td>1,094,838</td>\n",
              "      <td>113,745</td>\n",
              "      <td>10.4%</td>\n",
              "    </tr>\n",
              "    <tr>\n",
              "      <th>2</th>\n",
              "      <td>35 to 64 years</td>\n",
              "      <td>1,918,020</td>\n",
              "      <td>143,315</td>\n",
              "      <td>7.5%</td>\n",
              "    </tr>\n",
              "    <tr>\n",
              "      <th>3</th>\n",
              "      <td>60 years and over</td>\n",
              "      <td>1,113,052</td>\n",
              "      <td>111,613</td>\n",
              "      <td>10.0%</td>\n",
              "    </tr>\n",
              "  </tbody>\n",
              "</table>\n",
              "</div>"
            ],
            "text/plain": [
              "            Category      Total Below poverty level  \\\n",
              "0     Under 18 years    940,401             100,583   \n",
              "1     18 to 34 years  1,094,838             113,745   \n",
              "2     35 to 64 years  1,918,020             143,315   \n",
              "3  60 years and over  1,113,052             111,613   \n",
              "\n",
              "  Percent below poverty level  \n",
              "0                       10.7%  \n",
              "1                       10.4%  \n",
              "2                        7.5%  \n",
              "3                       10.0%  "
            ]
          },
          "execution_count": 21,
          "metadata": {},
          "output_type": "execute_result"
        }
      ],
      "source": [
        "\n",
        "ps_age_df = pd.concat([ps_age_df[0:1], ps_age_df[5:8]], ignore_index=True)\n",
        "ps_age_df"
      ]
    },
    {
      "cell_type": "code",
      "execution_count": 22,
      "metadata": {
        "id": "b_WZbNUxCknd"
      },
      "outputs": [],
      "source": [
        "ps_age_df['Percent below poverty level'] = (ps_age_df['Percent below poverty level']).str.replace('%', '')\n",
        "ps_age_df['Percent below poverty level'] = ps_age_df['Percent below poverty level'].astype(float)"
      ]
    },
    {
      "cell_type": "code",
      "execution_count": 23,
      "metadata": {
        "colab": {
          "base_uri": "https://localhost:8080/",
          "height": 175
        },
        "id": "MfqOpmvZffxV",
        "outputId": "24e8ea73-4071-46cb-b5fc-fffb6fa12e43"
      },
      "outputs": [
        {
          "data": {
            "text/html": [
              "<div>\n",
              "<style scoped>\n",
              "    .dataframe tbody tr th:only-of-type {\n",
              "        vertical-align: middle;\n",
              "    }\n",
              "\n",
              "    .dataframe tbody tr th {\n",
              "        vertical-align: top;\n",
              "    }\n",
              "\n",
              "    .dataframe thead th {\n",
              "        text-align: right;\n",
              "    }\n",
              "</style>\n",
              "<table border=\"1\" class=\"dataframe\">\n",
              "  <thead>\n",
              "    <tr style=\"text-align: right;\">\n",
              "      <th></th>\n",
              "      <th>Category</th>\n",
              "      <th>Total</th>\n",
              "      <th>Below poverty level</th>\n",
              "      <th>Percent below poverty level</th>\n",
              "    </tr>\n",
              "  </thead>\n",
              "  <tbody>\n",
              "    <tr>\n",
              "      <th>0</th>\n",
              "      <td>Under 18 years</td>\n",
              "      <td>940,401</td>\n",
              "      <td>100,583</td>\n",
              "      <td>10.7</td>\n",
              "    </tr>\n",
              "    <tr>\n",
              "      <th>1</th>\n",
              "      <td>18 - 34 years</td>\n",
              "      <td>1,094,838</td>\n",
              "      <td>113,745</td>\n",
              "      <td>10.4</td>\n",
              "    </tr>\n",
              "    <tr>\n",
              "      <th>2</th>\n",
              "      <td>35 - 64 years</td>\n",
              "      <td>1,918,020</td>\n",
              "      <td>143,315</td>\n",
              "      <td>7.5</td>\n",
              "    </tr>\n",
              "    <tr>\n",
              "      <th>3</th>\n",
              "      <td>60 years and over</td>\n",
              "      <td>1,113,052</td>\n",
              "      <td>111,613</td>\n",
              "      <td>10.0</td>\n",
              "    </tr>\n",
              "  </tbody>\n",
              "</table>\n",
              "</div>"
            ],
            "text/plain": [
              "            Category      Total Below poverty level  \\\n",
              "0     Under 18 years    940,401             100,583   \n",
              "1      18 - 34 years  1,094,838             113,745   \n",
              "2      35 - 64 years  1,918,020             143,315   \n",
              "3  60 years and over  1,113,052             111,613   \n",
              "\n",
              "   Percent below poverty level  \n",
              "0                         10.7  \n",
              "1                         10.4  \n",
              "2                          7.5  \n",
              "3                         10.0  "
            ]
          },
          "execution_count": 23,
          "metadata": {},
          "output_type": "execute_result"
        }
      ],
      "source": [
        "ps_age_df['Category'] = ps_age_df['Category'].str.replace(\"to\", \"-\")\n",
        "ps_age_df"
      ]
    },
    {
      "cell_type": "code",
      "execution_count": 24,
      "metadata": {
        "colab": {
          "base_uri": "https://localhost:8080/",
          "height": 175
        },
        "id": "0s9j7DNICrUb",
        "outputId": "dca937f3-7c6f-4285-8fc2-0aab9f9f4050"
      },
      "outputs": [
        {
          "data": {
            "text/html": [
              "<div>\n",
              "<style scoped>\n",
              "    .dataframe tbody tr th:only-of-type {\n",
              "        vertical-align: middle;\n",
              "    }\n",
              "\n",
              "    .dataframe tbody tr th {\n",
              "        vertical-align: top;\n",
              "    }\n",
              "\n",
              "    .dataframe thead th {\n",
              "        text-align: right;\n",
              "    }\n",
              "</style>\n",
              "<table border=\"1\" class=\"dataframe\">\n",
              "  <thead>\n",
              "    <tr style=\"text-align: right;\">\n",
              "      <th></th>\n",
              "      <th>Category</th>\n",
              "      <th>Total</th>\n",
              "      <th>Below poverty level</th>\n",
              "      <th>Percent below poverty level</th>\n",
              "    </tr>\n",
              "  </thead>\n",
              "  <tbody>\n",
              "    <tr>\n",
              "      <th>0</th>\n",
              "      <td>Under 18 years</td>\n",
              "      <td>940,401</td>\n",
              "      <td>100,583</td>\n",
              "      <td>10.7</td>\n",
              "    </tr>\n",
              "    <tr>\n",
              "      <th>1</th>\n",
              "      <td>18 - 34 years</td>\n",
              "      <td>1,094,838</td>\n",
              "      <td>113,745</td>\n",
              "      <td>10.4</td>\n",
              "    </tr>\n",
              "    <tr>\n",
              "      <th>2</th>\n",
              "      <td>35 - 64 years</td>\n",
              "      <td>1,918,020</td>\n",
              "      <td>143,315</td>\n",
              "      <td>7.5</td>\n",
              "    </tr>\n",
              "    <tr>\n",
              "      <th>3</th>\n",
              "      <td>60 years and over</td>\n",
              "      <td>1,113,052</td>\n",
              "      <td>111,613</td>\n",
              "      <td>10.0</td>\n",
              "    </tr>\n",
              "  </tbody>\n",
              "</table>\n",
              "</div>"
            ],
            "text/plain": [
              "            Category      Total Below poverty level  \\\n",
              "0     Under 18 years    940,401             100,583   \n",
              "1      18 - 34 years  1,094,838             113,745   \n",
              "2      35 - 64 years  1,918,020             143,315   \n",
              "3  60 years and over  1,113,052             111,613   \n",
              "\n",
              "   Percent below poverty level  \n",
              "0                         10.7  \n",
              "1                         10.4  \n",
              "2                          7.5  \n",
              "3                         10.0  "
            ]
          },
          "execution_count": 24,
          "metadata": {},
          "output_type": "execute_result"
        }
      ],
      "source": [
        "ps_age_df"
      ]
    },
    {
      "cell_type": "code",
      "execution_count": 25,
      "metadata": {
        "colab": {
          "base_uri": "https://localhost:8080/",
          "height": 700
        },
        "id": "kKWTexzNCu7C",
        "outputId": "37bc76a6-0a18-49ec-f002-e84fd60c7e87"
      },
      "outputs": [
        {
          "data": {
            "image/png": "[encoded data removed]",
            "text/plain": [
              "<Figure size 1000x600 with 1 Axes>"
            ]
          },
          "metadata": {},
          "output_type": "display_data"
        }
      ],
      "source": [
        "# Plotting bar graph for gender vs % population below poverty line \n",
        "# plt.bar(gender_df['Category'], gender_df['Total'], color=\"red\", label=\"Total Population considered for survey\")\n",
        "# plt.bar(gender_df['Category'], gender_df['Below poverty level'], color=\"orange\", label= \"Below Poverty Line\")\n",
        "# plt.bar(ps_age_df['Category'], ps_age_df['Percent below poverty level'], color=\"blue\", label= \"Below Poverty Line\")\n",
        "# plt.ylabel(\"% Population\")\n",
        "# plt.xlabel(\"Age\")\n",
        "# plt.ylim(0, 30)\n",
        "# plt.legend()\n",
        "# plt.xticks(rotation = 90)\n",
        "# plt.show()\n",
        "ax = ps_age_df.plot.bar(x=\"Category\", y=\"Percent below poverty level\", color=\"blue\", label=\"Below Poverty Line\", figsize=[10, 6])\n",
        "ax.set_title(\"Age vs Percent of population below poverty line\")\n",
        "ax.set_ylabel(\"Age\")\n",
        "ax.set_xlabel(\"Population\")\n",
        "\n",
        "for container in ax.containers:\n",
        "    ax.bar_label(ax.containers[0])\n"
      ]
    },
    {
      "cell_type": "code",
      "execution_count": 26,
      "metadata": {
        "colab": {
          "base_uri": "https://localhost:8080/",
          "height": 435
        },
        "id": "lfZx4AoKfwYl",
        "outputId": "6fc275f6-8654-433f-caa2-7e576d1ab9d7"
      },
      "outputs": [
        {
          "name": "stderr",
          "output_type": "stream",
          "text": [
            "C:\\Users\\patte\\AppData\\Local\\Temp\\ipykernel_35376\\1402588606.py:1: SettingWithCopyWarning: \n",
            "A value is trying to be set on a copy of a slice from a DataFrame.\n",
            "Try using .loc[row_indexer,col_indexer] = value instead\n",
            "\n",
            "See the caveats in the documentation: https://pandas.pydata.org/pandas-docs/stable/user_guide/indexing.html#returning-a-view-versus-a-copy\n",
            "  income_population_df['Salary Range'] = income_population_df['Salary Range'].str.replace(\"to\", \"-\")\n"
          ]
        },
        {
          "data": {
            "text/html": [
              "<div>\n",
              "<style scoped>\n",
              "    .dataframe tbody tr th:only-of-type {\n",
              "        vertical-align: middle;\n",
              "    }\n",
              "\n",
              "    .dataframe tbody tr th {\n",
              "        vertical-align: top;\n",
              "    }\n",
              "\n",
              "    .dataframe thead th {\n",
              "        text-align: right;\n",
              "    }\n",
              "</style>\n",
              "<table border=\"1\" class=\"dataframe\">\n",
              "  <thead>\n",
              "    <tr style=\"text-align: right;\">\n",
              "      <th></th>\n",
              "      <th>Salary Range</th>\n",
              "      <th>Households</th>\n",
              "      <th>Families</th>\n",
              "      <th>Married-couple families</th>\n",
              "      <th>Nonfamily households</th>\n",
              "    </tr>\n",
              "  </thead>\n",
              "  <tbody>\n",
              "    <tr>\n",
              "      <th>2</th>\n",
              "      <td>$10,000 - $14,999</td>\n",
              "      <td>3.5</td>\n",
              "      <td>1.8</td>\n",
              "      <td>0.9</td>\n",
              "      <td>6.7</td>\n",
              "    </tr>\n",
              "    <tr>\n",
              "      <th>3</th>\n",
              "      <td>$15,000 - $24,999</td>\n",
              "      <td>5.3</td>\n",
              "      <td>3.2</td>\n",
              "      <td>1.7</td>\n",
              "      <td>9.1</td>\n",
              "    </tr>\n",
              "    <tr>\n",
              "      <th>4</th>\n",
              "      <td>$25,000 - $34,999</td>\n",
              "      <td>4.9</td>\n",
              "      <td>3.7</td>\n",
              "      <td>2.1</td>\n",
              "      <td>7.3</td>\n",
              "    </tr>\n",
              "    <tr>\n",
              "      <th>5</th>\n",
              "      <td>$35,000 - $49,999</td>\n",
              "      <td>7.4</td>\n",
              "      <td>6.1</td>\n",
              "      <td>4.4</td>\n",
              "      <td>10.0</td>\n",
              "    </tr>\n",
              "    <tr>\n",
              "      <th>6</th>\n",
              "      <td>$50,000 - $74,999</td>\n",
              "      <td>12.4</td>\n",
              "      <td>10.6</td>\n",
              "      <td>9.1</td>\n",
              "      <td>15.8</td>\n",
              "    </tr>\n",
              "    <tr>\n",
              "      <th>7</th>\n",
              "      <td>$75,000 - $99,999</td>\n",
              "      <td>11.1</td>\n",
              "      <td>10.8</td>\n",
              "      <td>10.2</td>\n",
              "      <td>11.8</td>\n",
              "    </tr>\n",
              "    <tr>\n",
              "      <th>8</th>\n",
              "      <td>$100,000 - $149,999</td>\n",
              "      <td>18.1</td>\n",
              "      <td>19.9</td>\n",
              "      <td>20.7</td>\n",
              "      <td>14.7</td>\n",
              "    </tr>\n",
              "    <tr>\n",
              "      <th>9</th>\n",
              "      <td>$150,000 - $199,999</td>\n",
              "      <td>11.9</td>\n",
              "      <td>14.5</td>\n",
              "      <td>16.9</td>\n",
              "      <td>6.9</td>\n",
              "    </tr>\n",
              "    <tr>\n",
              "      <th>10</th>\n",
              "      <td>$200,000 or more</td>\n",
              "      <td>20.3</td>\n",
              "      <td>26.8</td>\n",
              "      <td>32.9</td>\n",
              "      <td>8.3</td>\n",
              "    </tr>\n",
              "  </tbody>\n",
              "</table>\n",
              "</div>"
            ],
            "text/plain": [
              "           Salary Range  Households  Families  Married-couple families  \\\n",
              "2     $10,000 - $14,999         3.5       1.8                      0.9   \n",
              "3     $15,000 - $24,999         5.3       3.2                      1.7   \n",
              "4     $25,000 - $34,999         4.9       3.7                      2.1   \n",
              "5     $35,000 - $49,999         7.4       6.1                      4.4   \n",
              "6     $50,000 - $74,999        12.4      10.6                      9.1   \n",
              "7     $75,000 - $99,999        11.1      10.8                     10.2   \n",
              "8   $100,000 - $149,999        18.1      19.9                     20.7   \n",
              "9   $150,000 - $199,999        11.9      14.5                     16.9   \n",
              "10     $200,000 or more        20.3      26.8                     32.9   \n",
              "\n",
              "    Nonfamily households  \n",
              "2                    6.7  \n",
              "3                    9.1  \n",
              "4                    7.3  \n",
              "5                   10.0  \n",
              "6                   15.8  \n",
              "7                   11.8  \n",
              "8                   14.7  \n",
              "9                    6.9  \n",
              "10                   8.3  "
            ]
          },
          "execution_count": 26,
          "metadata": {},
          "output_type": "execute_result"
        }
      ],
      "source": [
        "income_population_df['Salary Range'] = income_population_df['Salary Range'].str.replace(\"to\", \"-\")\n",
        "income_population_df"
      ]
    },
    {
      "cell_type": "code",
      "execution_count": 27,
      "metadata": {
        "colab": {
          "base_uri": "https://localhost:8080/",
          "height": 709
        },
        "id": "wtgZeM3LeFph",
        "outputId": "aec3bab6-669c-45d2-eb76-f2debddf955d"
      },
      "outputs": [
        {
          "data": {
            "image/png": "[encoded data removed]",
            "text/plain": [
              "<Figure size 1500x600 with 1 Axes>"
            ]
          },
          "metadata": {},
          "output_type": "display_data"
        }
      ],
      "source": [
        "# plt.figure(figsize=(12, 8))\n",
        "# plt.bar(income_population_df_mod1['Salary Range'], income_population_df_mod1['Households'], color=\"red\", label=\"Below poverty Line\")\n",
        "# plt.bar(income_population_df_mod2['Salary Range'], income_population_df_mod2['Households'], color=\"blue\", label=\"Above poverty Line\")\n",
        "# plt.ylabel(\"% of population\")\n",
        "# plt.xlabel(\"Income Distribution($)\")\n",
        "# plt.title(\"Income Distribution vs percent population\")\n",
        "# plt.xticks(rotation = 90)\n",
        "# plt.legend()\n",
        "# plt.show()\n",
        "\n",
        "ax = income_population_df.plot.bar(x=\"Salary Range\", y=\"Households\", color=\"blue\", label=\"Population percentage\", figsize=[15,6])\n",
        "ax.set_title(\"Income distribution among the population\")\n",
        "ax.set_ylabel(\"Population\")\n",
        "ax.set_xlabel(\"Income($)\")\n",
        "\n",
        "for container in ax.containers:\n",
        "    ax.bar_label(ax.containers[0])\n"
      ]
    }
  ],
  "metadata": {
    "colab": {
      "provenance": []
    },
    "kernelspec": {
      "display_name": "Python 3",
      "name": "python3"
    },
    "language_info": {
      "codemirror_mode": {
        "name": "ipython",
        "version": 3
      },
      "file_extension": ".py",
      "mimetype": "text/x-python",
      "name": "python",
      "nbconvert_exporter": "python",
      "pygments_lexer": "ipython3",
      "version": "3.9.13"
    }
  },
  "nbformat": 4,
  "nbformat_minor": 0
}
