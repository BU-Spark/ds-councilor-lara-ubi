{
 "cells": [
  {
   "cell_type": "code",
   "execution_count": 1,
   "metadata": {},
   "outputs": [],
   "source": [
    "import pandas as pd\n",
    "import matplotlib.pyplot as plt"
   ]
  },
  {
   "cell_type": "code",
   "execution_count": 2,
   "metadata": {},
   "outputs": [],
   "source": [
    "df1 = pd.read_csv('2013ratio.csv')\n",
    "df2 = pd.read_csv('2014ratio.csv')\n",
    "df3 = pd.read_csv('2015ratio.csv')\n",
    "df4 = pd.read_csv('2016ratio.csv')\n",
    "df5 = pd.read_csv('2017ratio.csv')\n",
    "df6 = pd.read_csv('2018ratio.csv')\n",
    "df7 = pd.read_csv('2019ratio.csv')\n",
    "df8 = pd.read_csv('2021ratio.csv')"
   ]
  },
  {
   "cell_type": "code",
   "execution_count": 3,
   "metadata": {},
   "outputs": [
    {
     "data": {
      "text/html": [
       "<div>\n",
       "<style scoped>\n",
       "    .dataframe tbody tr th:only-of-type {\n",
       "        vertical-align: middle;\n",
       "    }\n",
       "\n",
       "    .dataframe tbody tr th {\n",
       "        vertical-align: top;\n",
       "    }\n",
       "\n",
       "    .dataframe thead th {\n",
       "        text-align: right;\n",
       "    }\n",
       "</style>\n",
       "<table border=\"1\" class=\"dataframe\">\n",
       "  <thead>\n",
       "    <tr style=\"text-align: right;\">\n",
       "      <th></th>\n",
       "      <th>Label (Grouping)</th>\n",
       "      <th>Boston city, Massachusetts!!Estimate</th>\n",
       "      <th>Boston city, Massachusetts!!Margin of Error</th>\n",
       "    </tr>\n",
       "  </thead>\n",
       "  <tbody>\n",
       "    <tr>\n",
       "      <th>0</th>\n",
       "      <td>Total:</td>\n",
       "      <td>602,704</td>\n",
       "      <td>±4,124</td>\n",
       "    </tr>\n",
       "    <tr>\n",
       "      <th>1</th>\n",
       "      <td>Under .50</td>\n",
       "      <td>69,496</td>\n",
       "      <td>±6,443</td>\n",
       "    </tr>\n",
       "    <tr>\n",
       "      <th>2</th>\n",
       "      <td>.50 to .74</td>\n",
       "      <td>28,635</td>\n",
       "      <td>±4,137</td>\n",
       "    </tr>\n",
       "    <tr>\n",
       "      <th>3</th>\n",
       "      <td>.75 to .99</td>\n",
       "      <td>31,984</td>\n",
       "      <td>±4,368</td>\n",
       "    </tr>\n",
       "    <tr>\n",
       "      <th>4</th>\n",
       "      <td>1.00 to 1.24</td>\n",
       "      <td>31,515</td>\n",
       "      <td>±5,093</td>\n",
       "    </tr>\n",
       "  </tbody>\n",
       "</table>\n",
       "</div>"
      ],
      "text/plain": [
       "   Label (Grouping) Boston city, Massachusetts!!Estimate  \\\n",
       "0            Total:                              602,704   \n",
       "1         Under .50                               69,496   \n",
       "2        .50 to .74                               28,635   \n",
       "3        .75 to .99                               31,984   \n",
       "4      1.00 to 1.24                               31,515   \n",
       "\n",
       "  Boston city, Massachusetts!!Margin of Error  \n",
       "0                                      ±4,124  \n",
       "1                                      ±6,443  \n",
       "2                                      ±4,137  \n",
       "3                                      ±4,368  \n",
       "4                                      ±5,093  "
      ]
     },
     "execution_count": 3,
     "metadata": {},
     "output_type": "execute_result"
    }
   ],
   "source": [
    "df1.head()"
   ]
  },
  {
   "cell_type": "code",
   "execution_count": 21,
   "metadata": {},
   "outputs": [],
   "source": [
    "# Extract the ratios for each dataframe\n",
    "ratios_df1 = df1.loc[1:3, \"Boston city, Massachusetts!!Estimate\"].str.replace(',', '').astype(float)\n",
    "ratios_df2 = df2.loc[1:3, \"Boston city, Massachusetts!!Estimate\"].str.replace(',', '').astype(float)\n",
    "ratios_df3 = df3.loc[1:3, \"Boston city, Massachusetts!!Estimate\"].str.replace(',', '').astype(float)\n",
    "ratios_df4 = df4.loc[1:3, \"Boston city, Massachusetts!!Estimate\"].str.replace(',', '').astype(float)\n",
    "ratios_df5 = df5.loc[1:3, \"Boston city, Massachusetts!!Estimate\"].str.replace(',', '').astype(float)\n",
    "ratios_df6 = df6.loc[1:3, \"Boston city, Massachusetts!!Estimate\"].str.replace(',', '').astype(float)\n",
    "ratios_df7 = df7.loc[1:3, \"Boston city, Massachusetts!!Estimate\"].str.replace(',', '').astype(float)\n",
    "ratios_df8 = df8.loc[1:3, \"Boston city, Massachusetts!!Estimate\"].str.replace(',', '').astype(float)\n"
   ]
  },
  {
   "cell_type": "code",
   "execution_count": 22,
   "metadata": {},
   "outputs": [
    {
     "data": {
      "text/plain": [
       "1    69496.0\n",
       "2    28635.0\n",
       "3    31984.0\n",
       "Name: Boston city, Massachusetts!!Estimate, dtype: float64"
      ]
     },
     "execution_count": 22,
     "metadata": {},
     "output_type": "execute_result"
    }
   ],
   "source": [
    "ratios_df1"
   ]
  },
  {
   "cell_type": "code",
   "execution_count": 26,
   "metadata": {},
   "outputs": [
    {
     "data": {
      "image/png": "[encoded data removed]",
      "text/plain": [
       "<Figure size 864x576 with 1 Axes>"
      ]
     },
     "metadata": {
      "needs_background": "light"
     },
     "output_type": "display_data"
    }
   ],
   "source": [
    "# Concatenate the ratios into one dataframe\n",
    "ratios = pd.concat([ratios_df1, ratios_df2, ratios_df3, ratios_df4, ratios_df5, ratios_df6, ratios_df7, ratios_df8], axis=1)\n",
    "ratios.columns = ['2013', '2014', '2015', '2016', '2017', '2018', '2019', '2021']  # Rename the columns to display the years\n",
    "\n",
    "# Group the ratios by year and plot as a grouped bar chart\n",
    "ax = ratios.T.plot(kind='bar', figsize=(12, 8))\n",
    "\n",
    "# Set the axis labels and title\n",
    "ax.set_xlabel('Year')\n",
    "ax.set_ylabel('Ratio')\n",
    "ax.set_title('Ratios Over Years')\n",
    "\n",
    "# Set the legend labels and colors\n",
    "ax.legend(['Under .50', '.50 to .74', '.75 to .99'], loc='best')\n",
    "ax.get_legend().legendHandles[0].set_color('blue')\n",
    "ax.get_legend().legendHandles[1].set_color('orange')\n",
    "ax.get_legend().legendHandles[2].set_color('green')\n",
    "\n",
    "plt.show()"
   ]
  },
  {
   "cell_type": "code",
   "execution_count": 27,
   "metadata": {},
   "outputs": [],
   "source": [
    "ratios_df1_sum = ratios_df1.sum()\n",
    "ratios_df2_sum = ratios_df2.sum()\n",
    "ratios_df3_sum = ratios_df3.sum()\n",
    "ratios_df4_sum = ratios_df4.sum()\n",
    "ratios_df5_sum = ratios_df5.sum()\n",
    "ratios_df6_sum = ratios_df6.sum()\n",
    "ratios_df7_sum = ratios_df7.sum()\n",
    "ratios_df8_sum = ratios_df8.sum()"
   ]
  },
  {
   "cell_type": "code",
   "execution_count": 29,
   "metadata": {},
   "outputs": [
    {
     "data": {
      "image/png": "[encoded data removed]",
      "text/plain": [
       "<Figure size 432x288 with 1 Axes>"
      ]
     },
     "metadata": {
      "needs_background": "light"
     },
     "output_type": "display_data"
    }
   ],
   "source": [
    "total_ratios = [ratios_df1_sum, ratios_df2_sum, ratios_df3_sum, ratios_df4_sum, ratios_df5_sum, ratios_df6_sum, ratios_df7_sum, ratios_df8_sum]\n",
    "years = [2013, 2014, 2015, 2016, 2017, 2018, 2019, 2021]\n",
    "plt.bar(years, total_ratios)\n",
    "plt.xlabel(\"Year\")\n",
    "plt.ylabel(\"Total Poverty\")\n",
    "plt.title(\"Total Poverty Over the Years\")\n",
    "plt.show()"
   ]
  }
 ],
 "metadata": {
  "kernelspec": {
   "display_name": "Python 3.10.7",
   "language": "python",
   "name": "myenv"
  },
  "language_info": {
   "codemirror_mode": {
    "name": "ipython",
    "version": 3
   },
   "file_extension": ".py",
   "mimetype": "text/x-python",
   "name": "python",
   "nbconvert_exporter": "python",
   "pygments_lexer": "ipython3",
   "version": "3.9.12"
  },
  "orig_nbformat": 4
 },
 "nbformat": 4,
 "nbformat_minor": 2
}
