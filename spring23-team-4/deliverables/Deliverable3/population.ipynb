{
 "cells": [
  {
   "cell_type": "code",
   "execution_count": 39,
   "metadata": {},
   "outputs": [],
   "source": [
    "import pandas as pd\n",
    "import matplotlib.pyplot as plt"
   ]
  },
  {
   "cell_type": "code",
   "execution_count": 40,
   "metadata": {},
   "outputs": [],
   "source": [
    "df1 = pd.read_csv('2013population.csv')\n",
    "df2 = pd.read_csv('2014population.csv')\n",
    "df3 = pd.read_csv('2015population.csv')\n",
    "df4 = pd.read_csv('2016population.csv')\n",
    "df5 = pd.read_csv('2017population.csv')\n",
    "df6 = pd.read_csv('2018population.csv')\n",
    "df7 = pd.read_csv('2019population.csv')\n",
    "df8 = pd.read_csv('2021population.csv')"
   ]
  },
  {
   "cell_type": "code",
   "execution_count": 41,
   "metadata": {},
   "outputs": [],
   "source": [
    "df1_population = df1.loc[0, \"Boston city, Massachusetts!!Total!!Estimate\"]\n",
    "df2_population = df2.loc[0, \"Boston city, Massachusetts!!Total!!Estimate\"]\n",
    "df3_population = df3.loc[0, \"Boston city, Massachusetts!!Total!!Estimate\"]\n",
    "df4_population = df4.loc[0, \"Boston city, Massachusetts!!Total!!Estimate\"]\n",
    "df5_population = df5.loc[0, \"Boston city, Massachusetts!!Total!!Estimate\"]\n",
    "df6_population = df6.loc[0, \"Boston city, Massachusetts!!Total!!Estimate\"]\n",
    "df7_population = df7.loc[0, \"Boston city, Massachusetts!!Total!!Estimate\"]\n",
    "df8_population = df8.loc[0, \"Boston city, Massachusetts!!Total!!Estimate\"]"
   ]
  },
  {
   "cell_type": "code",
   "execution_count": 44,
   "metadata": {},
   "outputs": [],
   "source": [
    "total_populations = [df1_population, df2_population, df3_population, df4_population, df5_population, df6_population, df7_population, df8_population]"
   ]
  },
  {
   "cell_type": "code",
   "execution_count": 45,
   "metadata": {},
   "outputs": [
    {
     "data": {
      "image/png": "[encoded data removed]",
      "text/plain": [
       "<Figure size 432x288 with 1 Axes>"
      ]
     },
     "metadata": {
      "needs_background": "light"
     },
     "output_type": "display_data"
    }
   ],
   "source": [
    "# Convert the list of strings to a list of integers\n",
    "total_populations = [int(population.replace(\",\", \"\")) for population in total_populations]\n",
    "\n",
    "# Plot the values as a bar chart\n",
    "plt.bar(range(len(total_populations)), total_populations)\n",
    "plt.xlabel(\"Year\")\n",
    "plt.ylabel(\"Total Population\")\n",
    "plt.title(\"Total Population Over Years\")\n",
    "plt.xticks([0, 1, 2, 3, 4, 5, 6, 7], [2013, 2014, 2015, 2016, 2017, 2018, 2019, 2021])  # Rename the x-axis labels to display the years  # Rename the x-axis labels to display the years\n",
    "plt.show()"
   ]
  }
 ],
 "metadata": {
  "kernelspec": {
   "display_name": "Python 3.10.7",
   "language": "python",
   "name": "myenv"
  },
  "language_info": {
   "codemirror_mode": {
    "name": "ipython",
    "version": 3
   },
   "file_extension": ".py",
   "mimetype": "text/x-python",
   "name": "python",
   "nbconvert_exporter": "python",
   "pygments_lexer": "ipython3",
   "version": "3.9.12"
  },
  "orig_nbformat": 4
 },
 "nbformat": 4,
 "nbformat_minor": 2
}
