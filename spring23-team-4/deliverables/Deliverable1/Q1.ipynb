{
  "cells": [
    {
      "cell_type": "code",
      "execution_count": 5,
      "metadata": {
        "id": "co071lv9PlUM"
      },
      "outputs": [],
      "source": [
        "import pandas as pd\n",
        "import matplotlib.pyplot as plt"
      ]
    },
    {
      "cell_type": "code",
      "execution_count": 6,
      "metadata": {
        "id": "_DXsOlcLP42H"
      },
      "outputs": [],
      "source": [
        "df=pd.read_csv('DTA_ZIPCODE_Report_DEC_2022.v2.xlsx_-_Cases__Clients_by_ZIP_Code.csv')"
      ]
    },
    {
      "cell_type": "code",
      "execution_count": 7,
      "metadata": {
        "colab": {
          "base_uri": "https://localhost:8080/",
          "height": 502
        },
        "id": "_B9IJ4H9TlPd",
        "outputId": "1f1a1540-8892-4993-9175-061e15f7a1e2"
      },
      "outputs": [
        {
          "data": {
            "text/html": [
              "<div>\n",
              "<style scoped>\n",
              "    .dataframe tbody tr th:only-of-type {\n",
              "        vertical-align: middle;\n",
              "    }\n",
              "\n",
              "    .dataframe tbody tr th {\n",
              "        vertical-align: top;\n",
              "    }\n",
              "\n",
              "    .dataframe thead th {\n",
              "        text-align: right;\n",
              "    }\n",
              "</style>\n",
              "<table border=\"1\" class=\"dataframe\">\n",
              "  <thead>\n",
              "    <tr style=\"text-align: right;\">\n",
              "      <th></th>\n",
              "      <th>Aggregated Counts of Cases and Clients by DTA's Programs Differentiated by ZIP Code Catchments for the Month of December 2022.</th>\n",
              "      <th>Unnamed: 1</th>\n",
              "      <th>Unnamed: 2</th>\n",
              "      <th>Unnamed: 3</th>\n",
              "      <th>Unnamed: 4</th>\n",
              "      <th>Unnamed: 5</th>\n",
              "      <th>Unnamed: 6</th>\n",
              "      <th>Unnamed: 7</th>\n",
              "      <th>Unnamed: 8</th>\n",
              "    </tr>\n",
              "  </thead>\n",
              "  <tbody>\n",
              "    <tr>\n",
              "      <th>0</th>\n",
              "      <td>NaN</td>\n",
              "      <td>AU_PGM_CD</td>\n",
              "      <td>Values</td>\n",
              "      <td>NaN</td>\n",
              "      <td>NaN</td>\n",
              "      <td>NaN</td>\n",
              "      <td>NaN</td>\n",
              "      <td>NaN</td>\n",
              "      <td>NaN</td>\n",
              "    </tr>\n",
              "    <tr>\n",
              "      <th>1</th>\n",
              "      <td>NaN</td>\n",
              "      <td>SNAP</td>\n",
              "      <td>NaN</td>\n",
              "      <td>TAFDC</td>\n",
              "      <td>NaN</td>\n",
              "      <td>EAEDC</td>\n",
              "      <td>NaN</td>\n",
              "      <td>Grand Total</td>\n",
              "      <td>NaN</td>\n",
              "    </tr>\n",
              "    <tr>\n",
              "      <th>2</th>\n",
              "      <td>ZIP_CODE</td>\n",
              "      <td>CASES</td>\n",
              "      <td>CLIENTS</td>\n",
              "      <td>CASES</td>\n",
              "      <td>CLIENTS</td>\n",
              "      <td>CASES</td>\n",
              "      <td>CLIENTS</td>\n",
              "      <td>CASES</td>\n",
              "      <td>CLIENTS</td>\n",
              "    </tr>\n",
              "    <tr>\n",
              "      <th>3</th>\n",
              "      <td>01001</td>\n",
              "      <td>1,580</td>\n",
              "      <td>2,780</td>\n",
              "      <td>92</td>\n",
              "      <td>251</td>\n",
              "      <td>46</td>\n",
              "      <td>46</td>\n",
              "      <td>1,718</td>\n",
              "      <td>3,077</td>\n",
              "    </tr>\n",
              "    <tr>\n",
              "      <th>4</th>\n",
              "      <td>01002</td>\n",
              "      <td>1,582</td>\n",
              "      <td>2,410</td>\n",
              "      <td>82</td>\n",
              "      <td>219</td>\n",
              "      <td>57</td>\n",
              "      <td>57</td>\n",
              "      <td>1,721</td>\n",
              "      <td>2,686</td>\n",
              "    </tr>\n",
              "    <tr>\n",
              "      <th>...</th>\n",
              "      <td>...</td>\n",
              "      <td>...</td>\n",
              "      <td>...</td>\n",
              "      <td>...</td>\n",
              "      <td>...</td>\n",
              "      <td>...</td>\n",
              "      <td>...</td>\n",
              "      <td>...</td>\n",
              "      <td>...</td>\n",
              "    </tr>\n",
              "    <tr>\n",
              "      <th>625</th>\n",
              "      <td>02779</td>\n",
              "      <td>289</td>\n",
              "      <td>536</td>\n",
              "      <td>14</td>\n",
              "      <td>37</td>\n",
              "      <td>0</td>\n",
              "      <td>0</td>\n",
              "      <td>303</td>\n",
              "      <td>573</td>\n",
              "    </tr>\n",
              "    <tr>\n",
              "      <th>626</th>\n",
              "      <td>02780</td>\n",
              "      <td>7,633</td>\n",
              "      <td>13,096</td>\n",
              "      <td>511</td>\n",
              "      <td>1,372</td>\n",
              "      <td>451</td>\n",
              "      <td>452</td>\n",
              "      <td>8,595</td>\n",
              "      <td>14,920</td>\n",
              "    </tr>\n",
              "    <tr>\n",
              "      <th>627</th>\n",
              "      <td>02790</td>\n",
              "      <td>1,100</td>\n",
              "      <td>1,689</td>\n",
              "      <td>44</td>\n",
              "      <td>91</td>\n",
              "      <td>38</td>\n",
              "      <td>38</td>\n",
              "      <td>1,182</td>\n",
              "      <td>1,818</td>\n",
              "    </tr>\n",
              "    <tr>\n",
              "      <th>628</th>\n",
              "      <td>02791</td>\n",
              "      <td>0</td>\n",
              "      <td>0</td>\n",
              "      <td>NaN</td>\n",
              "      <td>NaN</td>\n",
              "      <td>NaN</td>\n",
              "      <td>NaN</td>\n",
              "      <td>0</td>\n",
              "      <td>0</td>\n",
              "    </tr>\n",
              "    <tr>\n",
              "      <th>629</th>\n",
              "      <td>Grand Total</td>\n",
              "      <td>641,911</td>\n",
              "      <td>1,062,883</td>\n",
              "      <td>37,713</td>\n",
              "      <td>99,655</td>\n",
              "      <td>26,405</td>\n",
              "      <td>26,592</td>\n",
              "      <td>706,029</td>\n",
              "      <td>1,189,130</td>\n",
              "    </tr>\n",
              "  </tbody>\n",
              "</table>\n",
              "<p>630 rows × 9 columns</p>\n",
              "</div>"
            ],
            "text/plain": [
              "    Aggregated Counts of Cases and Clients by DTA's Programs Differentiated by ZIP Code Catchments for the Month of December 2022.  \\\n",
              "0                                                  NaN                                                                               \n",
              "1                                                  NaN                                                                               \n",
              "2                                             ZIP_CODE                                                                               \n",
              "3                                                01001                                                                               \n",
              "4                                                01002                                                                               \n",
              "..                                                 ...                                                                               \n",
              "625                                              02779                                                                               \n",
              "626                                              02780                                                                               \n",
              "627                                              02790                                                                               \n",
              "628                                              02791                                                                               \n",
              "629                                        Grand Total                                                                               \n",
              "\n",
              "    Unnamed: 1 Unnamed: 2 Unnamed: 3 Unnamed: 4 Unnamed: 5 Unnamed: 6  \\\n",
              "0    AU_PGM_CD     Values        NaN        NaN        NaN        NaN   \n",
              "1         SNAP        NaN      TAFDC        NaN      EAEDC        NaN   \n",
              "2        CASES    CLIENTS      CASES    CLIENTS      CASES    CLIENTS   \n",
              "3        1,580      2,780         92        251         46         46   \n",
              "4        1,582      2,410         82        219         57         57   \n",
              "..         ...        ...        ...        ...        ...        ...   \n",
              "625        289        536         14         37          0          0   \n",
              "626      7,633     13,096        511      1,372        451        452   \n",
              "627      1,100      1,689         44         91         38         38   \n",
              "628          0          0        NaN        NaN        NaN        NaN   \n",
              "629    641,911  1,062,883     37,713     99,655     26,405     26,592   \n",
              "\n",
              "      Unnamed: 7 Unnamed: 8  \n",
              "0            NaN        NaN  \n",
              "1    Grand Total        NaN  \n",
              "2          CASES    CLIENTS  \n",
              "3          1,718      3,077  \n",
              "4          1,721      2,686  \n",
              "..           ...        ...  \n",
              "625          303        573  \n",
              "626        8,595     14,920  \n",
              "627        1,182      1,818  \n",
              "628            0          0  \n",
              "629      706,029  1,189,130  \n",
              "\n",
              "[630 rows x 9 columns]"
            ]
          },
          "execution_count": 7,
          "metadata": {},
          "output_type": "execute_result"
        }
      ],
      "source": [
        "df"
      ]
    },
    {
      "cell_type": "code",
      "execution_count": 8,
      "metadata": {
        "colab": {
          "base_uri": "https://localhost:8080/"
        },
        "id": "K2Smcb3TQvKw",
        "outputId": "167a07d6-9f0b-4265-8dd8-8d63bc434033"
      },
      "outputs": [
        {
          "data": {
            "text/plain": [
              "(630, 9)"
            ]
          },
          "execution_count": 8,
          "metadata": {},
          "output_type": "execute_result"
        }
      ],
      "source": [
        "df.shape"
      ]
    },
    {
      "cell_type": "code",
      "execution_count": 9,
      "metadata": {
        "colab": {
          "base_uri": "https://localhost:8080/",
          "height": 285
        },
        "id": "g1EO3I-eP-Da",
        "outputId": "4ee7eadd-9897-48be-d9e7-5949c92b3378"
      },
      "outputs": [
        {
          "data": {
            "text/html": [
              "<div>\n",
              "<style scoped>\n",
              "    .dataframe tbody tr th:only-of-type {\n",
              "        vertical-align: middle;\n",
              "    }\n",
              "\n",
              "    .dataframe tbody tr th {\n",
              "        vertical-align: top;\n",
              "    }\n",
              "\n",
              "    .dataframe thead th {\n",
              "        text-align: right;\n",
              "    }\n",
              "</style>\n",
              "<table border=\"1\" class=\"dataframe\">\n",
              "  <thead>\n",
              "    <tr style=\"text-align: right;\">\n",
              "      <th></th>\n",
              "      <th>Aggregated Counts of Cases and Clients by DTA's Programs Differentiated by ZIP Code Catchments for the Month of December 2022.</th>\n",
              "      <th>Unnamed: 1</th>\n",
              "      <th>Unnamed: 2</th>\n",
              "      <th>Unnamed: 3</th>\n",
              "      <th>Unnamed: 4</th>\n",
              "      <th>Unnamed: 5</th>\n",
              "      <th>Unnamed: 6</th>\n",
              "      <th>Unnamed: 7</th>\n",
              "      <th>Unnamed: 8</th>\n",
              "    </tr>\n",
              "  </thead>\n",
              "  <tbody>\n",
              "    <tr>\n",
              "      <th>625</th>\n",
              "      <td>02779</td>\n",
              "      <td>289</td>\n",
              "      <td>536</td>\n",
              "      <td>14</td>\n",
              "      <td>37</td>\n",
              "      <td>0</td>\n",
              "      <td>0</td>\n",
              "      <td>303</td>\n",
              "      <td>573</td>\n",
              "    </tr>\n",
              "    <tr>\n",
              "      <th>626</th>\n",
              "      <td>02780</td>\n",
              "      <td>7,633</td>\n",
              "      <td>13,096</td>\n",
              "      <td>511</td>\n",
              "      <td>1,372</td>\n",
              "      <td>451</td>\n",
              "      <td>452</td>\n",
              "      <td>8,595</td>\n",
              "      <td>14,920</td>\n",
              "    </tr>\n",
              "    <tr>\n",
              "      <th>627</th>\n",
              "      <td>02790</td>\n",
              "      <td>1,100</td>\n",
              "      <td>1,689</td>\n",
              "      <td>44</td>\n",
              "      <td>91</td>\n",
              "      <td>38</td>\n",
              "      <td>38</td>\n",
              "      <td>1,182</td>\n",
              "      <td>1,818</td>\n",
              "    </tr>\n",
              "    <tr>\n",
              "      <th>628</th>\n",
              "      <td>02791</td>\n",
              "      <td>0</td>\n",
              "      <td>0</td>\n",
              "      <td>NaN</td>\n",
              "      <td>NaN</td>\n",
              "      <td>NaN</td>\n",
              "      <td>NaN</td>\n",
              "      <td>0</td>\n",
              "      <td>0</td>\n",
              "    </tr>\n",
              "    <tr>\n",
              "      <th>629</th>\n",
              "      <td>Grand Total</td>\n",
              "      <td>641,911</td>\n",
              "      <td>1,062,883</td>\n",
              "      <td>37,713</td>\n",
              "      <td>99,655</td>\n",
              "      <td>26,405</td>\n",
              "      <td>26,592</td>\n",
              "      <td>706,029</td>\n",
              "      <td>1,189,130</td>\n",
              "    </tr>\n",
              "  </tbody>\n",
              "</table>\n",
              "</div>"
            ],
            "text/plain": [
              "    Aggregated Counts of Cases and Clients by DTA's Programs Differentiated by ZIP Code Catchments for the Month of December 2022.  \\\n",
              "625                                              02779                                                                               \n",
              "626                                              02780                                                                               \n",
              "627                                              02790                                                                               \n",
              "628                                              02791                                                                               \n",
              "629                                        Grand Total                                                                               \n",
              "\n",
              "    Unnamed: 1 Unnamed: 2 Unnamed: 3 Unnamed: 4 Unnamed: 5 Unnamed: 6  \\\n",
              "625        289        536         14         37          0          0   \n",
              "626      7,633     13,096        511      1,372        451        452   \n",
              "627      1,100      1,689         44         91         38         38   \n",
              "628          0          0        NaN        NaN        NaN        NaN   \n",
              "629    641,911  1,062,883     37,713     99,655     26,405     26,592   \n",
              "\n",
              "    Unnamed: 7 Unnamed: 8  \n",
              "625        303        573  \n",
              "626      8,595     14,920  \n",
              "627      1,182      1,818  \n",
              "628          0          0  \n",
              "629    706,029  1,189,130  "
            ]
          },
          "execution_count": 9,
          "metadata": {},
          "output_type": "execute_result"
        }
      ],
      "source": [
        "df.tail()"
      ]
    },
    {
      "cell_type": "code",
      "execution_count": 10,
      "metadata": {
        "colab": {
          "base_uri": "https://localhost:8080/",
          "height": 502
        },
        "id": "nVOGbVFDQUdW",
        "outputId": "79199df0-4d7d-4e0a-e181-bd49fa4cc5b5"
      },
      "outputs": [
        {
          "data": {
            "text/html": [
              "<div>\n",
              "<style scoped>\n",
              "    .dataframe tbody tr th:only-of-type {\n",
              "        vertical-align: middle;\n",
              "    }\n",
              "\n",
              "    .dataframe tbody tr th {\n",
              "        vertical-align: top;\n",
              "    }\n",
              "\n",
              "    .dataframe thead th {\n",
              "        text-align: right;\n",
              "    }\n",
              "</style>\n",
              "<table border=\"1\" class=\"dataframe\">\n",
              "  <thead>\n",
              "    <tr style=\"text-align: right;\">\n",
              "      <th></th>\n",
              "      <th>Aggregated Counts of Cases and Clients by DTA's Programs Differentiated by ZIP Code Catchments for the Month of December 2022.</th>\n",
              "      <th>Unnamed: 1</th>\n",
              "      <th>Unnamed: 2</th>\n",
              "      <th>Unnamed: 3</th>\n",
              "      <th>Unnamed: 4</th>\n",
              "      <th>Unnamed: 5</th>\n",
              "      <th>Unnamed: 6</th>\n",
              "      <th>Unnamed: 7</th>\n",
              "      <th>Unnamed: 8</th>\n",
              "    </tr>\n",
              "  </thead>\n",
              "  <tbody>\n",
              "    <tr>\n",
              "      <th>0</th>\n",
              "      <td>NaN</td>\n",
              "      <td>AU_PGM_CD</td>\n",
              "      <td>Values</td>\n",
              "      <td>NaN</td>\n",
              "      <td>NaN</td>\n",
              "      <td>NaN</td>\n",
              "      <td>NaN</td>\n",
              "      <td>NaN</td>\n",
              "      <td>NaN</td>\n",
              "    </tr>\n",
              "    <tr>\n",
              "      <th>1</th>\n",
              "      <td>NaN</td>\n",
              "      <td>SNAP</td>\n",
              "      <td>NaN</td>\n",
              "      <td>TAFDC</td>\n",
              "      <td>NaN</td>\n",
              "      <td>EAEDC</td>\n",
              "      <td>NaN</td>\n",
              "      <td>Grand Total</td>\n",
              "      <td>NaN</td>\n",
              "    </tr>\n",
              "    <tr>\n",
              "      <th>2</th>\n",
              "      <td>ZIP_CODE</td>\n",
              "      <td>CASES</td>\n",
              "      <td>CLIENTS</td>\n",
              "      <td>CASES</td>\n",
              "      <td>CLIENTS</td>\n",
              "      <td>CASES</td>\n",
              "      <td>CLIENTS</td>\n",
              "      <td>CASES</td>\n",
              "      <td>CLIENTS</td>\n",
              "    </tr>\n",
              "    <tr>\n",
              "      <th>3</th>\n",
              "      <td>01001</td>\n",
              "      <td>1,580</td>\n",
              "      <td>2,780</td>\n",
              "      <td>92</td>\n",
              "      <td>251</td>\n",
              "      <td>46</td>\n",
              "      <td>46</td>\n",
              "      <td>1,718</td>\n",
              "      <td>3,077</td>\n",
              "    </tr>\n",
              "    <tr>\n",
              "      <th>4</th>\n",
              "      <td>01002</td>\n",
              "      <td>1,582</td>\n",
              "      <td>2,410</td>\n",
              "      <td>82</td>\n",
              "      <td>219</td>\n",
              "      <td>57</td>\n",
              "      <td>57</td>\n",
              "      <td>1,721</td>\n",
              "      <td>2,686</td>\n",
              "    </tr>\n",
              "    <tr>\n",
              "      <th>...</th>\n",
              "      <td>...</td>\n",
              "      <td>...</td>\n",
              "      <td>...</td>\n",
              "      <td>...</td>\n",
              "      <td>...</td>\n",
              "      <td>...</td>\n",
              "      <td>...</td>\n",
              "      <td>...</td>\n",
              "      <td>...</td>\n",
              "    </tr>\n",
              "    <tr>\n",
              "      <th>624</th>\n",
              "      <td>02777</td>\n",
              "      <td>1,015</td>\n",
              "      <td>1,687</td>\n",
              "      <td>28</td>\n",
              "      <td>68</td>\n",
              "      <td>28</td>\n",
              "      <td>28</td>\n",
              "      <td>1,071</td>\n",
              "      <td>1,783</td>\n",
              "    </tr>\n",
              "    <tr>\n",
              "      <th>625</th>\n",
              "      <td>02779</td>\n",
              "      <td>289</td>\n",
              "      <td>536</td>\n",
              "      <td>14</td>\n",
              "      <td>37</td>\n",
              "      <td>0</td>\n",
              "      <td>0</td>\n",
              "      <td>303</td>\n",
              "      <td>573</td>\n",
              "    </tr>\n",
              "    <tr>\n",
              "      <th>626</th>\n",
              "      <td>02780</td>\n",
              "      <td>7,633</td>\n",
              "      <td>13,096</td>\n",
              "      <td>511</td>\n",
              "      <td>1,372</td>\n",
              "      <td>451</td>\n",
              "      <td>452</td>\n",
              "      <td>8,595</td>\n",
              "      <td>14,920</td>\n",
              "    </tr>\n",
              "    <tr>\n",
              "      <th>627</th>\n",
              "      <td>02790</td>\n",
              "      <td>1,100</td>\n",
              "      <td>1,689</td>\n",
              "      <td>44</td>\n",
              "      <td>91</td>\n",
              "      <td>38</td>\n",
              "      <td>38</td>\n",
              "      <td>1,182</td>\n",
              "      <td>1,818</td>\n",
              "    </tr>\n",
              "    <tr>\n",
              "      <th>628</th>\n",
              "      <td>02791</td>\n",
              "      <td>0</td>\n",
              "      <td>0</td>\n",
              "      <td>NaN</td>\n",
              "      <td>NaN</td>\n",
              "      <td>NaN</td>\n",
              "      <td>NaN</td>\n",
              "      <td>0</td>\n",
              "      <td>0</td>\n",
              "    </tr>\n",
              "  </tbody>\n",
              "</table>\n",
              "<p>629 rows × 9 columns</p>\n",
              "</div>"
            ],
            "text/plain": [
              "    Aggregated Counts of Cases and Clients by DTA's Programs Differentiated by ZIP Code Catchments for the Month of December 2022.  \\\n",
              "0                                                  NaN                                                                               \n",
              "1                                                  NaN                                                                               \n",
              "2                                             ZIP_CODE                                                                               \n",
              "3                                                01001                                                                               \n",
              "4                                                01002                                                                               \n",
              "..                                                 ...                                                                               \n",
              "624                                              02777                                                                               \n",
              "625                                              02779                                                                               \n",
              "626                                              02780                                                                               \n",
              "627                                              02790                                                                               \n",
              "628                                              02791                                                                               \n",
              "\n",
              "    Unnamed: 1 Unnamed: 2 Unnamed: 3 Unnamed: 4 Unnamed: 5 Unnamed: 6  \\\n",
              "0    AU_PGM_CD     Values        NaN        NaN        NaN        NaN   \n",
              "1         SNAP        NaN      TAFDC        NaN      EAEDC        NaN   \n",
              "2        CASES    CLIENTS      CASES    CLIENTS      CASES    CLIENTS   \n",
              "3        1,580      2,780         92        251         46         46   \n",
              "4        1,582      2,410         82        219         57         57   \n",
              "..         ...        ...        ...        ...        ...        ...   \n",
              "624      1,015      1,687         28         68         28         28   \n",
              "625        289        536         14         37          0          0   \n",
              "626      7,633     13,096        511      1,372        451        452   \n",
              "627      1,100      1,689         44         91         38         38   \n",
              "628          0          0        NaN        NaN        NaN        NaN   \n",
              "\n",
              "      Unnamed: 7 Unnamed: 8  \n",
              "0            NaN        NaN  \n",
              "1    Grand Total        NaN  \n",
              "2          CASES    CLIENTS  \n",
              "3          1,718      3,077  \n",
              "4          1,721      2,686  \n",
              "..           ...        ...  \n",
              "624        1,071      1,783  \n",
              "625          303        573  \n",
              "626        8,595     14,920  \n",
              "627        1,182      1,818  \n",
              "628            0          0  \n",
              "\n",
              "[629 rows x 9 columns]"
            ]
          },
          "execution_count": 10,
          "metadata": {},
          "output_type": "execute_result"
        }
      ],
      "source": [
        "df1=df.drop(df.index[-1])\n",
        "df1"
      ]
    },
    {
      "cell_type": "code",
      "execution_count": 11,
      "metadata": {
        "colab": {
          "base_uri": "https://localhost:8080/"
        },
        "id": "2kk6-nr8V3Jb",
        "outputId": "82a3b796-80be-417e-fec2-9a4a87b0d631"
      },
      "outputs": [
        {
          "data": {
            "text/plain": [
              "0           NaN\n",
              "1           NaN\n",
              "2      ZIP_CODE\n",
              "3         01001\n",
              "4         01002\n",
              "         ...   \n",
              "624       02777\n",
              "625       02779\n",
              "626       02780\n",
              "627       02790\n",
              "628       02791\n",
              "Name: Aggregated Counts of Cases and Clients by DTA's Programs Differentiated by ZIP Code Catchments for the Month of December 2022., Length: 629, dtype: object"
            ]
          },
          "execution_count": 11,
          "metadata": {},
          "output_type": "execute_result"
        }
      ],
      "source": [
        "df1[\"Aggregated Counts of Cases and Clients by DTA's Programs Differentiated by ZIP Code Catchments for the Month of December 2022.\"]"
      ]
    },
    {
      "cell_type": "code",
      "execution_count": 12,
      "metadata": {
        "id": "yK9Ji6G5WD1P"
      },
      "outputs": [],
      "source": [
        "del df1[\"Aggregated Counts of Cases and Clients by DTA's Programs Differentiated by ZIP Code Catchments for the Month of December 2022.\"]\n"
      ]
    },
    {
      "cell_type": "code",
      "execution_count": 13,
      "metadata": {
        "colab": {
          "base_uri": "https://localhost:8080/",
          "height": 206
        },
        "id": "oz0MI6xAW2Oe",
        "outputId": "c64e554b-28f5-4869-c960-c2118c0ed69c"
      },
      "outputs": [
        {
          "data": {
            "text/html": [
              "<div>\n",
              "<style scoped>\n",
              "    .dataframe tbody tr th:only-of-type {\n",
              "        vertical-align: middle;\n",
              "    }\n",
              "\n",
              "    .dataframe tbody tr th {\n",
              "        vertical-align: top;\n",
              "    }\n",
              "\n",
              "    .dataframe thead th {\n",
              "        text-align: right;\n",
              "    }\n",
              "</style>\n",
              "<table border=\"1\" class=\"dataframe\">\n",
              "  <thead>\n",
              "    <tr style=\"text-align: right;\">\n",
              "      <th></th>\n",
              "      <th>Unnamed: 1</th>\n",
              "      <th>Unnamed: 2</th>\n",
              "      <th>Unnamed: 3</th>\n",
              "      <th>Unnamed: 4</th>\n",
              "      <th>Unnamed: 5</th>\n",
              "      <th>Unnamed: 6</th>\n",
              "      <th>Unnamed: 7</th>\n",
              "      <th>Unnamed: 8</th>\n",
              "    </tr>\n",
              "  </thead>\n",
              "  <tbody>\n",
              "    <tr>\n",
              "      <th>0</th>\n",
              "      <td>AU_PGM_CD</td>\n",
              "      <td>Values</td>\n",
              "      <td>NaN</td>\n",
              "      <td>NaN</td>\n",
              "      <td>NaN</td>\n",
              "      <td>NaN</td>\n",
              "      <td>NaN</td>\n",
              "      <td>NaN</td>\n",
              "    </tr>\n",
              "    <tr>\n",
              "      <th>1</th>\n",
              "      <td>SNAP</td>\n",
              "      <td>NaN</td>\n",
              "      <td>TAFDC</td>\n",
              "      <td>NaN</td>\n",
              "      <td>EAEDC</td>\n",
              "      <td>NaN</td>\n",
              "      <td>Grand Total</td>\n",
              "      <td>NaN</td>\n",
              "    </tr>\n",
              "    <tr>\n",
              "      <th>2</th>\n",
              "      <td>CASES</td>\n",
              "      <td>CLIENTS</td>\n",
              "      <td>CASES</td>\n",
              "      <td>CLIENTS</td>\n",
              "      <td>CASES</td>\n",
              "      <td>CLIENTS</td>\n",
              "      <td>CASES</td>\n",
              "      <td>CLIENTS</td>\n",
              "    </tr>\n",
              "    <tr>\n",
              "      <th>3</th>\n",
              "      <td>1,580</td>\n",
              "      <td>2,780</td>\n",
              "      <td>92</td>\n",
              "      <td>251</td>\n",
              "      <td>46</td>\n",
              "      <td>46</td>\n",
              "      <td>1,718</td>\n",
              "      <td>3,077</td>\n",
              "    </tr>\n",
              "    <tr>\n",
              "      <th>4</th>\n",
              "      <td>1,582</td>\n",
              "      <td>2,410</td>\n",
              "      <td>82</td>\n",
              "      <td>219</td>\n",
              "      <td>57</td>\n",
              "      <td>57</td>\n",
              "      <td>1,721</td>\n",
              "      <td>2,686</td>\n",
              "    </tr>\n",
              "  </tbody>\n",
              "</table>\n",
              "</div>"
            ],
            "text/plain": [
              "  Unnamed: 1 Unnamed: 2 Unnamed: 3 Unnamed: 4 Unnamed: 5 Unnamed: 6  \\\n",
              "0  AU_PGM_CD     Values        NaN        NaN        NaN        NaN   \n",
              "1       SNAP        NaN      TAFDC        NaN      EAEDC        NaN   \n",
              "2      CASES    CLIENTS      CASES    CLIENTS      CASES    CLIENTS   \n",
              "3      1,580      2,780         92        251         46         46   \n",
              "4      1,582      2,410         82        219         57         57   \n",
              "\n",
              "    Unnamed: 7 Unnamed: 8  \n",
              "0          NaN        NaN  \n",
              "1  Grand Total        NaN  \n",
              "2        CASES    CLIENTS  \n",
              "3        1,718      3,077  \n",
              "4        1,721      2,686  "
            ]
          },
          "execution_count": 13,
          "metadata": {},
          "output_type": "execute_result"
        }
      ],
      "source": [
        "df1.head()"
      ]
    },
    {
      "cell_type": "code",
      "execution_count": 14,
      "metadata": {
        "colab": {
          "base_uri": "https://localhost:8080/"
        },
        "id": "cJ1CD8caXbHv",
        "outputId": "9673b8ef-f21d-4ef7-b349-dfbf9ee88c8a"
      },
      "outputs": [
        {
          "name": "stdout",
          "output_type": "stream",
          "text": [
            "<class 'pandas.core.frame.DataFrame'>\n",
            "RangeIndex: 629 entries, 0 to 628\n",
            "Data columns (total 8 columns):\n",
            " #   Column      Non-Null Count  Dtype \n",
            "---  ------      --------------  ----- \n",
            " 0   Unnamed: 1  629 non-null    object\n",
            " 1   Unnamed: 2  628 non-null    object\n",
            " 2   Unnamed: 3  504 non-null    object\n",
            " 3   Unnamed: 4  503 non-null    object\n",
            " 4   Unnamed: 5  521 non-null    object\n",
            " 5   Unnamed: 6  520 non-null    object\n",
            " 6   Unnamed: 7  628 non-null    object\n",
            " 7   Unnamed: 8  627 non-null    object\n",
            "dtypes: object(8)\n",
            "memory usage: 39.4+ KB\n"
          ]
        }
      ],
      "source": [
        "df1.info()"
      ]
    },
    {
      "cell_type": "code",
      "execution_count": 15,
      "metadata": {
        "colab": {
          "base_uri": "https://localhost:8080/",
          "height": 423
        },
        "id": "pWhBN1DQZJDC",
        "outputId": "8802d2db-32e8-4f89-d84a-5f614329db03"
      },
      "outputs": [
        {
          "data": {
            "text/html": [
              "<div>\n",
              "<style scoped>\n",
              "    .dataframe tbody tr th:only-of-type {\n",
              "        vertical-align: middle;\n",
              "    }\n",
              "\n",
              "    .dataframe tbody tr th {\n",
              "        vertical-align: top;\n",
              "    }\n",
              "\n",
              "    .dataframe thead th {\n",
              "        text-align: right;\n",
              "    }\n",
              "</style>\n",
              "<table border=\"1\" class=\"dataframe\">\n",
              "  <thead>\n",
              "    <tr style=\"text-align: right;\">\n",
              "      <th></th>\n",
              "      <th>Unnamed: 1</th>\n",
              "      <th>Unnamed: 2</th>\n",
              "      <th>Unnamed: 3</th>\n",
              "      <th>Unnamed: 4</th>\n",
              "      <th>Unnamed: 5</th>\n",
              "      <th>Unnamed: 6</th>\n",
              "      <th>Unnamed: 7</th>\n",
              "      <th>Unnamed: 8</th>\n",
              "    </tr>\n",
              "  </thead>\n",
              "  <tbody>\n",
              "    <tr>\n",
              "      <th>3</th>\n",
              "      <td>1,580</td>\n",
              "      <td>2,780</td>\n",
              "      <td>92</td>\n",
              "      <td>251</td>\n",
              "      <td>46</td>\n",
              "      <td>46</td>\n",
              "      <td>1,718</td>\n",
              "      <td>3,077</td>\n",
              "    </tr>\n",
              "    <tr>\n",
              "      <th>4</th>\n",
              "      <td>1,582</td>\n",
              "      <td>2,410</td>\n",
              "      <td>82</td>\n",
              "      <td>219</td>\n",
              "      <td>57</td>\n",
              "      <td>57</td>\n",
              "      <td>1,721</td>\n",
              "      <td>2,686</td>\n",
              "    </tr>\n",
              "    <tr>\n",
              "      <th>5</th>\n",
              "      <td>35</td>\n",
              "      <td>36</td>\n",
              "      <td>NaN</td>\n",
              "      <td>NaN</td>\n",
              "      <td>NaN</td>\n",
              "      <td>NaN</td>\n",
              "      <td>35</td>\n",
              "      <td>36</td>\n",
              "    </tr>\n",
              "    <tr>\n",
              "      <th>6</th>\n",
              "      <td>13</td>\n",
              "      <td>14</td>\n",
              "      <td>NaN</td>\n",
              "      <td>NaN</td>\n",
              "      <td>0</td>\n",
              "      <td>0</td>\n",
              "      <td>13</td>\n",
              "      <td>14</td>\n",
              "    </tr>\n",
              "    <tr>\n",
              "      <th>7</th>\n",
              "      <td>335</td>\n",
              "      <td>595</td>\n",
              "      <td>14</td>\n",
              "      <td>30</td>\n",
              "      <td>0</td>\n",
              "      <td>0</td>\n",
              "      <td>349</td>\n",
              "      <td>625</td>\n",
              "    </tr>\n",
              "    <tr>\n",
              "      <th>...</th>\n",
              "      <td>...</td>\n",
              "      <td>...</td>\n",
              "      <td>...</td>\n",
              "      <td>...</td>\n",
              "      <td>...</td>\n",
              "      <td>...</td>\n",
              "      <td>...</td>\n",
              "      <td>...</td>\n",
              "    </tr>\n",
              "    <tr>\n",
              "      <th>624</th>\n",
              "      <td>1,015</td>\n",
              "      <td>1,687</td>\n",
              "      <td>28</td>\n",
              "      <td>68</td>\n",
              "      <td>28</td>\n",
              "      <td>28</td>\n",
              "      <td>1,071</td>\n",
              "      <td>1,783</td>\n",
              "    </tr>\n",
              "    <tr>\n",
              "      <th>625</th>\n",
              "      <td>289</td>\n",
              "      <td>536</td>\n",
              "      <td>14</td>\n",
              "      <td>37</td>\n",
              "      <td>0</td>\n",
              "      <td>0</td>\n",
              "      <td>303</td>\n",
              "      <td>573</td>\n",
              "    </tr>\n",
              "    <tr>\n",
              "      <th>626</th>\n",
              "      <td>7,633</td>\n",
              "      <td>13,096</td>\n",
              "      <td>511</td>\n",
              "      <td>1,372</td>\n",
              "      <td>451</td>\n",
              "      <td>452</td>\n",
              "      <td>8,595</td>\n",
              "      <td>14,920</td>\n",
              "    </tr>\n",
              "    <tr>\n",
              "      <th>627</th>\n",
              "      <td>1,100</td>\n",
              "      <td>1,689</td>\n",
              "      <td>44</td>\n",
              "      <td>91</td>\n",
              "      <td>38</td>\n",
              "      <td>38</td>\n",
              "      <td>1,182</td>\n",
              "      <td>1,818</td>\n",
              "    </tr>\n",
              "    <tr>\n",
              "      <th>628</th>\n",
              "      <td>0</td>\n",
              "      <td>0</td>\n",
              "      <td>NaN</td>\n",
              "      <td>NaN</td>\n",
              "      <td>NaN</td>\n",
              "      <td>NaN</td>\n",
              "      <td>0</td>\n",
              "      <td>0</td>\n",
              "    </tr>\n",
              "  </tbody>\n",
              "</table>\n",
              "<p>626 rows × 8 columns</p>\n",
              "</div>"
            ],
            "text/plain": [
              "    Unnamed: 1 Unnamed: 2 Unnamed: 3 Unnamed: 4 Unnamed: 5 Unnamed: 6  \\\n",
              "3        1,580      2,780         92        251         46         46   \n",
              "4        1,582      2,410         82        219         57         57   \n",
              "5           35         36        NaN        NaN        NaN        NaN   \n",
              "6           13         14        NaN        NaN          0          0   \n",
              "7          335        595         14         30          0          0   \n",
              "..         ...        ...        ...        ...        ...        ...   \n",
              "624      1,015      1,687         28         68         28         28   \n",
              "625        289        536         14         37          0          0   \n",
              "626      7,633     13,096        511      1,372        451        452   \n",
              "627      1,100      1,689         44         91         38         38   \n",
              "628          0          0        NaN        NaN        NaN        NaN   \n",
              "\n",
              "    Unnamed: 7 Unnamed: 8  \n",
              "3        1,718      3,077  \n",
              "4        1,721      2,686  \n",
              "5           35         36  \n",
              "6           13         14  \n",
              "7          349        625  \n",
              "..         ...        ...  \n",
              "624      1,071      1,783  \n",
              "625        303        573  \n",
              "626      8,595     14,920  \n",
              "627      1,182      1,818  \n",
              "628          0          0  \n",
              "\n",
              "[626 rows x 8 columns]"
            ]
          },
          "execution_count": 15,
          "metadata": {},
          "output_type": "execute_result"
        }
      ],
      "source": [
        "df1=df1.iloc[3:]\n",
        "df1"
      ]
    },
    {
      "cell_type": "code",
      "execution_count": 16,
      "metadata": {
        "colab": {
          "base_uri": "https://localhost:8080/"
        },
        "id": "IO2LDgP-eBQU",
        "outputId": "1e4a523d-0fa9-436c-fafd-bd211815ac51"
      },
      "outputs": [
        {
          "data": {
            "text/plain": [
              "Unnamed: 1      0\n",
              "Unnamed: 2      0\n",
              "Unnamed: 3    124\n",
              "Unnamed: 4    124\n",
              "Unnamed: 5    107\n",
              "Unnamed: 6    107\n",
              "Unnamed: 7      0\n",
              "Unnamed: 8      0\n",
              "dtype: int64"
            ]
          },
          "execution_count": 16,
          "metadata": {},
          "output_type": "execute_result"
        }
      ],
      "source": [
        "df1.isna().sum()"
      ]
    },
    {
      "cell_type": "code",
      "execution_count": 17,
      "metadata": {
        "id": "stBs7_t4bu2y"
      },
      "outputs": [],
      "source": [
        "df1 = df1.replace({',': '','NaN':0,' ':0}, regex=True).astype(float)"
      ]
    },
    {
      "cell_type": "code",
      "execution_count": 18,
      "metadata": {
        "colab": {
          "base_uri": "https://localhost:8080/"
        },
        "id": "t9PZ0bxpcf1p",
        "outputId": "a21e12cc-274d-4e30-fdc3-441c34ee4ed6"
      },
      "outputs": [
        {
          "data": {
            "text/plain": [
              "Unnamed: 1    float64\n",
              "Unnamed: 2    float64\n",
              "Unnamed: 3    float64\n",
              "Unnamed: 4    float64\n",
              "Unnamed: 5    float64\n",
              "Unnamed: 6    float64\n",
              "Unnamed: 7    float64\n",
              "Unnamed: 8    float64\n",
              "dtype: object"
            ]
          },
          "execution_count": 18,
          "metadata": {},
          "output_type": "execute_result"
        }
      ],
      "source": [
        "df1.dtypes"
      ]
    },
    {
      "cell_type": "code",
      "execution_count": 19,
      "metadata": {
        "colab": {
          "base_uri": "https://localhost:8080/"
        },
        "id": "eUN-_TXOW7va",
        "outputId": "bba0130e-15ea-4ff2-8446-22f75a14805f"
      },
      "outputs": [
        {
          "name": "stdout",
          "output_type": "stream",
          "text": [
            "641911.0\n"
          ]
        }
      ],
      "source": [
        "snap_cases=df1['Unnamed: 1'].sum()\n",
        "print(snap_cases)"
      ]
    },
    {
      "cell_type": "code",
      "execution_count": 20,
      "metadata": {
        "colab": {
          "base_uri": "https://localhost:8080/"
        },
        "id": "sRBXbAiyXNWt",
        "outputId": "1bc3dff8-9772-4d90-9d65-86c15ca2a4a3"
      },
      "outputs": [
        {
          "data": {
            "text/plain": [
              "1062883.0"
            ]
          },
          "execution_count": 20,
          "metadata": {},
          "output_type": "execute_result"
        }
      ],
      "source": [
        "snap_clients=df1['Unnamed: 2'].sum()\n",
        "snap_clients"
      ]
    },
    {
      "cell_type": "code",
      "execution_count": 21,
      "metadata": {
        "colab": {
          "base_uri": "https://localhost:8080/"
        },
        "id": "JDUWWiOJcTGK",
        "outputId": "080f661a-27b1-432c-bc3a-2b2bf9b455d5"
      },
      "outputs": [
        {
          "data": {
            "text/plain": [
              "37713.0"
            ]
          },
          "execution_count": 21,
          "metadata": {},
          "output_type": "execute_result"
        }
      ],
      "source": [
        "TAFDC_cases=df1['Unnamed: 3'].sum()\n",
        "TAFDC_cases"
      ]
    },
    {
      "cell_type": "code",
      "execution_count": 22,
      "metadata": {
        "colab": {
          "base_uri": "https://localhost:8080/"
        },
        "id": "gVVPhU_2cdIs",
        "outputId": "6c37a93d-1ae5-45e5-8bbe-ad85ef8f0313"
      },
      "outputs": [
        {
          "data": {
            "text/plain": [
              "99655.0"
            ]
          },
          "execution_count": 22,
          "metadata": {},
          "output_type": "execute_result"
        }
      ],
      "source": [
        "TAFDC_clients=df1['Unnamed: 4'].sum()\n",
        "TAFDC_clients"
      ]
    },
    {
      "cell_type": "code",
      "execution_count": 23,
      "metadata": {
        "colab": {
          "base_uri": "https://localhost:8080/"
        },
        "id": "TEXiFHWGdAsa",
        "outputId": "e1ba7a53-a4df-45e7-d579-3382cf62c2d4"
      },
      "outputs": [
        {
          "data": {
            "text/plain": [
              "26405.0"
            ]
          },
          "execution_count": 23,
          "metadata": {},
          "output_type": "execute_result"
        }
      ],
      "source": [
        "EAEDC_cases=df1['Unnamed: 5'].sum()\n",
        "EAEDC_cases"
      ]
    },
    {
      "cell_type": "code",
      "execution_count": 24,
      "metadata": {
        "colab": {
          "base_uri": "https://localhost:8080/"
        },
        "id": "Q-5dhoa9dMda",
        "outputId": "0f50bdb8-11d3-4392-e00f-069c58239e88"
      },
      "outputs": [
        {
          "data": {
            "text/plain": [
              "26592.0"
            ]
          },
          "execution_count": 24,
          "metadata": {},
          "output_type": "execute_result"
        }
      ],
      "source": [
        "EAEDC_clients=df1['Unnamed: 6'].sum()\n",
        "EAEDC_clients"
      ]
    },
    {
      "cell_type": "code",
      "execution_count": 25,
      "metadata": {
        "colab": {
          "base_uri": "https://localhost:8080/"
        },
        "id": "wS1nE9jsdUsu",
        "outputId": "1133ad7c-6532-410c-c6cc-a197fc4d4fd7"
      },
      "outputs": [
        {
          "data": {
            "text/plain": [
              "706029.0"
            ]
          },
          "execution_count": 25,
          "metadata": {},
          "output_type": "execute_result"
        }
      ],
      "source": [
        "Total_cases=df1['Unnamed: 7'].sum()\n",
        "Total_cases"
      ]
    },
    {
      "cell_type": "code",
      "execution_count": 26,
      "metadata": {
        "colab": {
          "base_uri": "https://localhost:8080/"
        },
        "id": "qijgX9Ajdbr2",
        "outputId": "d4abd308-2f58-431f-bc5b-e7cb54fd3afc"
      },
      "outputs": [
        {
          "data": {
            "text/plain": [
              "1189130.0"
            ]
          },
          "execution_count": 26,
          "metadata": {},
          "output_type": "execute_result"
        }
      ],
      "source": [
        "Total_clients=df1['Unnamed: 8'].sum()\n",
        "Total_clients"
      ]
    },
    {
      "cell_type": "code",
      "execution_count": 27,
      "metadata": {
        "colab": {
          "base_uri": "https://localhost:8080/",
          "height": 281
        },
        "id": "HKQvNOjmf5Ye",
        "outputId": "4790d755-f43f-4ee4-894d-e6da52238c98"
      },
      "outputs": [
        {
          "data": {
            "image/png": "[encoded data removed]",
            "text/plain": [
              "<Figure size 640x480 with 1 Axes>"
            ]
          },
          "metadata": {},
          "output_type": "display_data"
        }
      ],
      "source": [
        "plt.bar(x='households', height=snap_cases )\n",
        "plt.bar(x='people', height=snap_clients)\n",
        "\n",
        "plt.title('SNAP')\n",
        "plt.show()"
      ]
    },
    {
      "cell_type": "code",
      "execution_count": 28,
      "metadata": {
        "colab": {
          "base_uri": "https://localhost:8080/",
          "height": 281
        },
        "id": "cn0S9XgTlqog",
        "outputId": "d868b8f8-0089-4d63-97fd-1c2647a8b4ea"
      },
      "outputs": [
        {
          "data": {
            "image/png": "[encoded data removed]",
            "text/plain": [
              "<Figure size 640x480 with 1 Axes>"
            ]
          },
          "metadata": {},
          "output_type": "display_data"
        }
      ],
      "source": [
        "plt.bar(x='Households', height=TAFDC_cases)\n",
        "plt.bar(x='people', height=TAFDC_clients)\n",
        "\n",
        "plt.title('TAFDC')\n",
        "plt.show()"
      ]
    },
    {
      "cell_type": "code",
      "execution_count": 29,
      "metadata": {
        "colab": {
          "base_uri": "https://localhost:8080/",
          "height": 281
        },
        "id": "EiwjkgqwpExE",
        "outputId": "e0139299-b983-473e-c660-799322016d52"
      },
      "outputs": [
        {
          "data": {
            "image/png": "[encoded data removed]",
            "text/plain": [
              "<Figure size 640x480 with 1 Axes>"
            ]
          },
          "metadata": {},
          "output_type": "display_data"
        }
      ],
      "source": [
        "plt.bar(x='Households', height=EAEDC_cases)\n",
        "plt.bar(x='people', height=EAEDC_clients)\n",
        "\n",
        "plt.title('EAEDC')\n",
        "plt.show()"
      ]
    },
    {
      "attachments": {},
      "cell_type": "markdown",
      "metadata": {
        "id": "vBLDl6-1q-MX"
      },
      "source": [
        "There is no proper dataset to calculate the total number of people benefited from Housing assistance so we just did some research and found out that the total number of households under housing assitance in massachusetts are around 200,000 and the same swith the case of WIC where the total participation racks upto 115,590 in the state of Massachusetts."
      ]
    },
    {
      "cell_type": "code",
      "execution_count": null,
      "metadata": {
        "id": "dIO7AUyNprJA"
      },
      "outputs": [],
      "source": []
    }
  ],
  "metadata": {
    "colab": {
      "provenance": []
    },
    "kernelspec": {
      "display_name": "Python 3",
      "language": "python",
      "name": "python3"
    },
    "language_info": {
      "codemirror_mode": {
        "name": "ipython",
        "version": 3
      },
      "file_extension": ".py",
      "mimetype": "text/x-python",
      "name": "python",
      "nbconvert_exporter": "python",
      "pygments_lexer": "ipython3",
      "version": "3.9.13"
    },
    "vscode": {
      "interpreter": {
        "hash": "10df00eab5bc80f37f746cca795c9dcf2d7c48f48a2563dba879eda8affef9de"
      }
    }
  },
  "nbformat": 4,
  "nbformat_minor": 0
}
