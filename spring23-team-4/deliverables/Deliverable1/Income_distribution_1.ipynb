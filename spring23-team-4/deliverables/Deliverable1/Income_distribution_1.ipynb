{
  "nbformat": 4,
  "nbformat_minor": 0,
  "metadata": {
    "colab": {
      "provenance": []
    },
    "kernelspec": {
      "name": "python3",
      "display_name": "Python 3"
    },
    "language_info": {
      "name": "python"
    }
  },
  "cells": [
    {
      "cell_type": "code",
      "execution_count": 29,
      "metadata": {
        "id": "v3FTAevhif3q"
      },
      "outputs": [],
      "source": [
        "import pandas as pd\n",
        "df = pd.read_csv('/content/sample_data/Boston_poverty.csv')"
      ]
    },
    {
      "cell_type": "code",
      "source": [
        "df.shape"
      ],
      "metadata": {
        "colab": {
          "base_uri": "https://localhost:8080/",
          "height": 0
        },
        "id": "ni0XUYFzFj2B",
        "outputId": "c8a6af5d-897d-4044-99f9-ffc94ba30634"
      },
      "execution_count": 30,
      "outputs": [
        {
          "output_type": "execute_result",
          "data": {
            "text/plain": [
              "(145, 9)"
            ]
          },
          "metadata": {},
          "execution_count": 30
        }
      ]
    },
    {
      "cell_type": "code",
      "source": [
        "df.head()"
      ],
      "metadata": {
        "colab": {
          "base_uri": "https://localhost:8080/",
          "height": 357
        },
        "id": "_LYIjc-bmW8e",
        "outputId": "aed816c3-85e8-4530-e5b2-625f5c66d979"
      },
      "execution_count": 31,
      "outputs": [
        {
          "output_type": "execute_result",
          "data": {
            "text/plain": [
              "                   Label (Grouping) Massachusetts!!Estimate  \\\n",
              "0                 EMPLOYMENT STATUS                     NaN   \n",
              "1      Population 16 years and over               5,790,261   \n",
              "2                    In labor force               3,865,417   \n",
              "3              Civilian labor force               3,859,910   \n",
              "4                          Employed               3,604,672   \n",
              "\n",
              "  Massachusetts!!Margin of Error Massachusetts!!Percent  \\\n",
              "0                            NaN                    NaN   \n",
              "1                         ±4,144              5,790,261   \n",
              "2                        ±20,138                  66.8%   \n",
              "3                        ±20,214                  66.7%   \n",
              "4                        ±22,861                  62.3%   \n",
              "\n",
              "  Massachusetts!!Percent Margin of Error Boston city, Massachusetts!!Estimate  \\\n",
              "0                                    NaN                                  NaN   \n",
              "1                                    (X)                              564,064   \n",
              "2                                   ±0.4                              390,707   \n",
              "3                                   ±0.4                              390,287   \n",
              "4                                   ±0.4                              358,975   \n",
              "\n",
              "  Boston city, Massachusetts!!Margin of Error  \\\n",
              "0                                         NaN   \n",
              "1                                      ±3,771   \n",
              "2                                      ±6,317   \n",
              "3                                      ±6,316   \n",
              "4                                      ±6,721   \n",
              "\n",
              "  Boston city, Massachusetts!!Percent  \\\n",
              "0                                 NaN   \n",
              "1                             564,064   \n",
              "2                               69.3%   \n",
              "3                               69.2%   \n",
              "4                               63.6%   \n",
              "\n",
              "  Boston city, Massachusetts!!Percent Margin of Error  \n",
              "0                                                NaN   \n",
              "1                                                (X)   \n",
              "2                                               ±1.1   \n",
              "3                                               ±1.1   \n",
              "4                                               ±1.1   "
            ],
            "text/html": [
              "\n",
              "  <div id=\"df-476c3dda-c6c1-4f82-8323-1549d73498b9\">\n",
              "    <div class=\"colab-df-container\">\n",
              "      <div>\n",
              "<style scoped>\n",
              "    .dataframe tbody tr th:only-of-type {\n",
              "        vertical-align: middle;\n",
              "    }\n",
              "\n",
              "    .dataframe tbody tr th {\n",
              "        vertical-align: top;\n",
              "    }\n",
              "\n",
              "    .dataframe thead th {\n",
              "        text-align: right;\n",
              "    }\n",
              "</style>\n",
              "<table border=\"1\" class=\"dataframe\">\n",
              "  <thead>\n",
              "    <tr style=\"text-align: right;\">\n",
              "      <th></th>\n",
              "      <th>Label (Grouping)</th>\n",
              "      <th>Massachusetts!!Estimate</th>\n",
              "      <th>Massachusetts!!Margin of Error</th>\n",
              "      <th>Massachusetts!!Percent</th>\n",
              "      <th>Massachusetts!!Percent Margin of Error</th>\n",
              "      <th>Boston city, Massachusetts!!Estimate</th>\n",
              "      <th>Boston city, Massachusetts!!Margin of Error</th>\n",
              "      <th>Boston city, Massachusetts!!Percent</th>\n",
              "      <th>Boston city, Massachusetts!!Percent Margin of Error</th>\n",
              "    </tr>\n",
              "  </thead>\n",
              "  <tbody>\n",
              "    <tr>\n",
              "      <th>0</th>\n",
              "      <td>EMPLOYMENT STATUS</td>\n",
              "      <td>NaN</td>\n",
              "      <td>NaN</td>\n",
              "      <td>NaN</td>\n",
              "      <td>NaN</td>\n",
              "      <td>NaN</td>\n",
              "      <td>NaN</td>\n",
              "      <td>NaN</td>\n",
              "      <td>NaN</td>\n",
              "    </tr>\n",
              "    <tr>\n",
              "      <th>1</th>\n",
              "      <td>Population 16 years and over</td>\n",
              "      <td>5,790,261</td>\n",
              "      <td>±4,144</td>\n",
              "      <td>5,790,261</td>\n",
              "      <td>(X)</td>\n",
              "      <td>564,064</td>\n",
              "      <td>±3,771</td>\n",
              "      <td>564,064</td>\n",
              "      <td>(X)</td>\n",
              "    </tr>\n",
              "    <tr>\n",
              "      <th>2</th>\n",
              "      <td>In labor force</td>\n",
              "      <td>3,865,417</td>\n",
              "      <td>±20,138</td>\n",
              "      <td>66.8%</td>\n",
              "      <td>±0.4</td>\n",
              "      <td>390,707</td>\n",
              "      <td>±6,317</td>\n",
              "      <td>69.3%</td>\n",
              "      <td>±1.1</td>\n",
              "    </tr>\n",
              "    <tr>\n",
              "      <th>3</th>\n",
              "      <td>Civilian labor force</td>\n",
              "      <td>3,859,910</td>\n",
              "      <td>±20,214</td>\n",
              "      <td>66.7%</td>\n",
              "      <td>±0.4</td>\n",
              "      <td>390,287</td>\n",
              "      <td>±6,316</td>\n",
              "      <td>69.2%</td>\n",
              "      <td>±1.1</td>\n",
              "    </tr>\n",
              "    <tr>\n",
              "      <th>4</th>\n",
              "      <td>Employed</td>\n",
              "      <td>3,604,672</td>\n",
              "      <td>±22,861</td>\n",
              "      <td>62.3%</td>\n",
              "      <td>±0.4</td>\n",
              "      <td>358,975</td>\n",
              "      <td>±6,721</td>\n",
              "      <td>63.6%</td>\n",
              "      <td>±1.1</td>\n",
              "    </tr>\n",
              "  </tbody>\n",
              "</table>\n",
              "</div>\n",
              "      <button class=\"colab-df-convert\" onclick=\"convertToInteractive('df-476c3dda-c6c1-4f82-8323-1549d73498b9')\"\n",
              "              title=\"Convert this dataframe to an interactive table.\"\n",
              "              style=\"display:none;\">\n",
              "        \n",
              "  <svg xmlns=\"http://www.w3.org/2000/svg\" height=\"24px\"viewBox=\"0 0 24 24\"\n",
              "       width=\"24px\">\n",
              "    <path d=\"M0 0h24v24H0V0z\" fill=\"none\"/>\n",
              "    <path d=\"M18.56 5.44l.94 2.06.94-2.06 2.06-.94-2.06-.94-.94-2.06-.94 2.06-2.06.94zm-11 1L8.5 8.5l.94-2.06 2.06-.94-2.06-.94L8.5 2.5l-.94 2.06-2.06.94zm10 10l.94 2.06.94-2.06 2.06-.94-2.06-.94-.94-2.06-.94 2.06-2.06.94z\"/><path d=\"M17.41 7.96l-1.37-1.37c-.4-.4-.92-.59-1.43-.59-.52 0-1.04.2-1.43.59L10.3 9.45l-7.72 7.72c-.78.78-.78 2.05 0 2.83L4 21.41c.39.39.9.59 1.41.59.51 0 1.02-.2 1.41-.59l7.78-7.78 2.81-2.81c.8-.78.8-2.07 0-2.86zM5.41 20L4 18.59l7.72-7.72 1.47 1.35L5.41 20z\"/>\n",
              "  </svg>\n",
              "      </button>\n",
              "      \n",
              "  <style>\n",
              "    .colab-df-container {\n",
              "      display:flex;\n",
              "      flex-wrap:wrap;\n",
              "      gap: 12px;\n",
              "    }\n",
              "\n",
              "    .colab-df-convert {\n",
              "      background-color: #E8F0FE;\n",
              "      border: none;\n",
              "      border-radius: 50%;\n",
              "      cursor: pointer;\n",
              "      display: none;\n",
              "      fill: #1967D2;\n",
              "      height: 32px;\n",
              "      padding: 0 0 0 0;\n",
              "      width: 32px;\n",
              "    }\n",
              "\n",
              "    .colab-df-convert:hover {\n",
              "      background-color: #E2EBFA;\n",
              "      box-shadow: 0px 1px 2px rgba(60, 64, 67, 0.3), 0px 1px 3px 1px rgba(60, 64, 67, 0.15);\n",
              "      fill: #174EA6;\n",
              "    }\n",
              "\n",
              "    [theme=dark] .colab-df-convert {\n",
              "      background-color: #3B4455;\n",
              "      fill: #D2E3FC;\n",
              "    }\n",
              "\n",
              "    [theme=dark] .colab-df-convert:hover {\n",
              "      background-color: #434B5C;\n",
              "      box-shadow: 0px 1px 3px 1px rgba(0, 0, 0, 0.15);\n",
              "      filter: drop-shadow(0px 1px 2px rgba(0, 0, 0, 0.3));\n",
              "      fill: #FFFFFF;\n",
              "    }\n",
              "  </style>\n",
              "\n",
              "      <script>\n",
              "        const buttonEl =\n",
              "          document.querySelector('#df-476c3dda-c6c1-4f82-8323-1549d73498b9 button.colab-df-convert');\n",
              "        buttonEl.style.display =\n",
              "          google.colab.kernel.accessAllowed ? 'block' : 'none';\n",
              "\n",
              "        async function convertToInteractive(key) {\n",
              "          const element = document.querySelector('#df-476c3dda-c6c1-4f82-8323-1549d73498b9');\n",
              "          const dataTable =\n",
              "            await google.colab.kernel.invokeFunction('convertToInteractive',\n",
              "                                                     [key], {});\n",
              "          if (!dataTable) return;\n",
              "\n",
              "          const docLinkHtml = 'Like what you see? Visit the ' +\n",
              "            '<a target=\"_blank\" href=https://colab.research.google.com/notebooks/data_table.ipynb>data table notebook</a>'\n",
              "            + ' to learn more about interactive tables.';\n",
              "          element.innerHTML = '';\n",
              "          dataTable['output_type'] = 'display_data';\n",
              "          await google.colab.output.renderOutput(dataTable, element);\n",
              "          const docLink = document.createElement('div');\n",
              "          docLink.innerHTML = docLinkHtml;\n",
              "          element.appendChild(docLink);\n",
              "        }\n",
              "      </script>\n",
              "    </div>\n",
              "  </div>\n",
              "  "
            ]
          },
          "metadata": {},
          "execution_count": 31
        }
      ]
    },
    {
      "cell_type": "code",
      "source": [
        "df.loc[57]"
      ],
      "metadata": {
        "colab": {
          "base_uri": "https://localhost:8080/",
          "height": 0
        },
        "id": "JFQCILApFVUs",
        "outputId": "a58ef278-ecb7-47f5-e991-5319b015b0bb"
      },
      "execution_count": 32,
      "outputs": [
        {
          "output_type": "execute_result",
          "data": {
            "text/plain": [
              "Label (Grouping)                                               Less than $10,000\n",
              "Massachusetts!!Estimate                                                  149,006\n",
              "Massachusetts!!Margin of Error                                            ±6,792\n",
              "Massachusetts!!Percent                                                      5.4%\n",
              "Massachusetts!!Percent Margin of Error                                      ±0.2\n",
              "Boston city, Massachusetts!!Estimate                                      25,836\n",
              "Boston city, Massachusetts!!Margin of Error                               ±2,625\n",
              "Boston city, Massachusetts!!Percent                                         9.5%\n",
              "Boston city, Massachusetts!!Percent Margin of Error                         ±1.0\n",
              "Name: 57, dtype: object"
            ]
          },
          "metadata": {},
          "execution_count": 32
        }
      ]
    },
    {
      "cell_type": "code",
      "source": [
        "below_10k_estimate = int(''.join(filter(str.isdigit, df.loc[57]['Boston city, Massachusetts!!Estimate'])))\n",
        "below_10k_error = int(''.join(filter(str.isdigit, df.loc[57]['Boston city, Massachusetts!!Margin of Error'])))\n",
        "\n",
        "_10k_14k_estimate = int(''.join(filter(str.isdigit, df.loc[58]['Boston city, Massachusetts!!Estimate'])))\n",
        "_10k_24k_estimate=_10k_14k_estimate + int(''.join(filter(str.isdigit, df.loc[59]['Boston city, Massachusetts!!Estimate'])))\n",
        "_10k_14k_error = int(''.join(filter(str.isdigit, df.loc[58]['Boston city, Massachusetts!!Margin of Error'])))\n",
        "_10k_24k_error = _10k_14k_error + int(''.join(filter(str.isdigit, df.loc[59]['Boston city, Massachusetts!!Margin of Error'])))\n",
        "\n",
        "_25k_34k_estimate = int(''.join(filter(str.isdigit, df.loc[60]['Boston city, Massachusetts!!Estimate'])))\n",
        "_25k_49k_estimate=_25k_34k_estimate + int(''.join(filter(str.isdigit, df.loc[61]['Boston city, Massachusetts!!Estimate'])))\n",
        "_25k_34k_error = int(''.join(filter(str.isdigit, df.loc[60]['Boston city, Massachusetts!!Margin of Error'])))\n",
        "_25k_49k_error = _25k_34k_error + int(''.join(filter(str.isdigit, df.loc[61]['Boston city, Massachusetts!!Margin of Error'])))\n",
        "\n",
        "_50k_74k_estimate = int(''.join(filter(str.isdigit, df.loc[62]['Boston city, Massachusetts!!Estimate'])))\n",
        "_50k_99k_estimate=_50k_74k_estimate + int(''.join(filter(str.isdigit, df.loc[63]['Boston city, Massachusetts!!Estimate'])))\n",
        "_50k_74k_error = int(''.join(filter(str.isdigit, df.loc[62]['Boston city, Massachusetts!!Margin of Error'])))\n",
        "_50k_99k_error = _50k_74k_error + int(''.join(filter(str.isdigit, df.loc[63]['Boston city, Massachusetts!!Margin of Error'])))\n",
        "\n",
        "_100k_149k_estimate = int(''.join(filter(str.isdigit, df.loc[64]['Boston city, Massachusetts!!Estimate'])))\n",
        "_100k_199k_estimate=_100k_149k_estimate + int(''.join(filter(str.isdigit, df.loc[65]['Boston city, Massachusetts!!Estimate'])))\n",
        "_100k_149k_error = int(''.join(filter(str.isdigit, df.loc[64]['Boston city, Massachusetts!!Margin of Error'])))\n",
        "_100k_199k_error = _100k_149k_error + int(''.join(filter(str.isdigit, df.loc[65]['Boston city, Massachusetts!!Margin of Error'])))\n",
        "\n",
        "_200k_or_above_estimate = int(''.join(filter(str.isdigit, df.loc[66]['Boston city, Massachusetts!!Estimate'])))\n",
        "_200k_or_above_error = int(''.join(filter(str.isdigit, df.loc[66]['Boston city, Massachusetts!!Margin of Error'])))\n",
        "\n",
        "\n",
        "\n",
        "total_estimate = below_10k_estimate + _10k_24k_estimate + _25k_49k_estimate + _50k_99k_estimate + _100k_199k_estimate + _200k_or_above_estimate\n",
        "total_error = below_10k_error + _10k_24k_error + _25k_49k_error + _50k_99k_error + _100k_199k_error + _200k_or_above_error\n",
        "\n",
        "print('Distribution is normal with a peak at', total_estimate)\n",
        "print('Lower bound:', total_estimate - total_error)\n",
        "print('Mean:', total_estimate)\n",
        "print('Upper bound:', total_estimate + total_error)\n",
        "\n"
      ],
      "metadata": {
        "colab": {
          "base_uri": "https://localhost:8080/",
          "height": 0
        },
        "id": "Scpgpli8j0Q5",
        "outputId": "3abf6ee2-5def-4deb-b00e-de68248c6851"
      },
      "execution_count": 33,
      "outputs": [
        {
          "output_type": "stream",
          "name": "stdout",
          "text": [
            "Distribution is normal with a peak at 271941\n",
            "Lower bound: 244818\n",
            "Mean: 271941\n",
            "Upper bound: 299064\n"
          ]
        }
      ]
    },
    {
      "cell_type": "code",
      "source": [
        "import pandas as pd\n",
        "import matplotlib.pyplot as plt\n",
        "import seaborn as sns\n",
        "\n",
        "below_10k_estimate = int(''.join(filter(str.isdigit, df.loc[57]['Boston city, Massachusetts!!Estimate'])))\n",
        "_10k_15k_estimate = int(''.join(filter(str.isdigit, df.loc[58]['Boston city, Massachusetts!!Estimate'])))\n",
        "\n",
        "total_estimate = below_10k_estimate + _10k_24k_estimate + _25k_49k_estimate + _50k_99k_estimate + _100k_199k_estimate + _200k_or_above_estimate\n",
        "\n",
        "x = ['Below $10k', '\\$10k - $24k','\\$25k - $49k','\\$50k - $99k','\\$100k - $199k',  '\\$200k or above', 'Total']\n",
        "\n",
        "y = [below_10k_estimate, _10k_24k_estimate, _25k_49k_estimate, _50k_99k_estimate, _100k_199k_estimate, _200k_or_above_estimate, total_estimate]\n",
        "\n",
        " \n",
        "sns.set_style(\"whitegrid\")\n",
        "plt.figure(figsize=(10, 4))\n",
        "sns.barplot(x=x, y=y)\n",
        "\n",
        "plt.title('Distribution of Income Range in Boston')\n",
        "plt.xlabel('Income Range')\n",
        "plt.ylabel('Estimate')\n",
        "plt.show()\n"
      ],
      "metadata": {
        "colab": {
          "base_uri": "https://localhost:8080/",
          "height": 410
        },
        "id": "Dkp3CqMqnGU2",
        "outputId": "86e6096d-4db7-4535-99b7-870c12aaebe5"
      },
      "execution_count": 34,
      "outputs": [
        {
          "output_type": "display_data",
          "data": {
            "text/plain": [
              "<Figure size 1000x400 with 1 Axes>"
            ],
            "image/png": "[encoded data removed]"
          },
          "metadata": {}
        }
      ]
    }
  ]
}