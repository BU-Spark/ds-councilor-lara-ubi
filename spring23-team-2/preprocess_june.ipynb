{
 "cells": [
  {
   "cell_type": "code",
   "execution_count": 7,
   "metadata": {},
   "outputs": [],
   "source": [
    "import pandas as pd\n",
    "\n",
    "# https://data.census.gov/table?q=DP03&g=0400000US25_1600000US2507000&tid=ACSDP1Y2021.DP03\n",
    "df = pd.read_csv('./data/ACSDP1Y2021.DP03-2023-02-27T203110.csv')\n"
   ]
  },
  {
   "cell_type": "code",
   "execution_count": 8,
   "metadata": {},
   "outputs": [],
   "source": [
    "def parse_int(s):\n",
    "    return int(''.join(list(filter(str.isdigit, s))))"
   ]
  },
  {
   "cell_type": "code",
   "execution_count": 9,
   "metadata": {},
   "outputs": [
    {
     "name": "stdout",
     "output_type": "stream",
     "text": [
      "Label (Grouping)                                               Less than $10,000\n",
      "Massachusetts!!Estimate                                                  149,006\n",
      "Massachusetts!!Margin of Error                                            ±6,792\n",
      "Massachusetts!!Percent                                                      5.4%\n",
      "Massachusetts!!Percent Margin of Error                                      ±0.2\n",
      "Boston city, Massachusetts!!Estimate                                      25,836\n",
      "Boston city, Massachusetts!!Margin of Error                               ±2,625\n",
      "Boston city, Massachusetts!!Percent                                         9.5%\n",
      "Boston city, Massachusetts!!Percent Margin of Error                         ±1.0\n",
      "Name: 57, dtype: object\n",
      "Label (Grouping)                                               $10,000 to $14,999\n",
      "Massachusetts!!Estimate                                                   105,211\n",
      "Massachusetts!!Margin of Error                                             ±6,030\n",
      "Massachusetts!!Percent                                                       3.8%\n",
      "Massachusetts!!Percent Margin of Error                                       ±0.2\n",
      "Boston city, Massachusetts!!Estimate                                       16,863\n",
      "Boston city, Massachusetts!!Margin of Error                                ±2,479\n",
      "Boston city, Massachusetts!!Percent                                          6.2%\n",
      "Boston city, Massachusetts!!Percent Margin of Error                          ±0.9\n",
      "Name: 58, dtype: object\n",
      "\n",
      "distribution is normal with a peak at 42699\n",
      "37595\n",
      "42699\n",
      "47803\n"
     ]
    }
   ],
   "source": [
    "print(df.loc[57])\n",
    "print(df.loc[58])\n",
    "# print(df.loc[59])\n",
    "# df.loc[0]\n",
    "\n",
    "# df.loc[57]['United States!!Margin of Error']\n",
    "\n",
    "below_10k_estimate = parse_int(df.loc[57]['Boston city, Massachusetts!!Estimate'])\n",
    "below_10k_err = parse_int(df.loc[57]['Boston city, Massachusetts!!Margin of Error'])\n",
    "\n",
    "_10k_15k_estimate = parse_int(df.loc[58]['Boston city, Massachusetts!!Estimate'])\n",
    "_10k_15k_err = parse_int(df.loc[58]['Boston city, Massachusetts!!Margin of Error'])\n",
    "\n",
    "\n",
    "print()\n",
    "print('distribution is normal with a peak at',\n",
    "      below_10k_estimate + _10k_15k_estimate)\n",
    "print(below_10k_estimate + _10k_15k_estimate - below_10k_err - _10k_15k_err)\n",
    "print(below_10k_estimate + _10k_15k_estimate)\n",
    "print(below_10k_estimate + _10k_15k_estimate + below_10k_err + _10k_15k_err)"
   ]
  },
  {
   "attachments": {},
   "cell_type": "markdown",
   "metadata": {},
   "source": [
    "this census data shows that there are estimated to be about 42,700 people living on less than 15k a year in boston. however this statistic does not take into account family size, which is necessary to calculate the number of families below the poverty line."
   ]
  }
 ],
 "metadata": {
  "kernelspec": {
   "display_name": "Python 3",
   "language": "python",
   "name": "python3"
  },
  "language_info": {
   "codemirror_mode": {
    "name": "ipython",
    "version": 3
   },
   "file_extension": ".py",
   "mimetype": "text/x-python",
   "name": "python",
   "nbconvert_exporter": "python",
   "pygments_lexer": "ipython3",
   "version": "3.11.1"
  },
  "orig_nbformat": 4,
  "vscode": {
   "interpreter": {
    "hash": "5c7b89af1651d0b8571dde13640ecdccf7d5a6204171d6ab33e7c296e100e08a"
   }
  }
 },
 "nbformat": 4,
 "nbformat_minor": 2
}
