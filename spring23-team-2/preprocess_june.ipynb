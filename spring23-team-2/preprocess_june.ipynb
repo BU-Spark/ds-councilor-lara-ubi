{
 "cells": [
  {
   "cell_type": "code",
   "execution_count": 1,
   "metadata": {},
   "outputs": [],
   "source": [
    "import pandas as pd\n",
    "\n",
    "df = pd.read_csv('./data/census.csv')"
   ]
  },
  {
   "cell_type": "code",
   "execution_count": 30,
   "metadata": {},
   "outputs": [
    {
     "name": "stdout",
     "output_type": "stream",
     "text": [
      "Label (Grouping)                                  Less than $10,000\n",
      "United States!!Estimate                                   7,689,277\n",
      "United States!!Margin of Error                              ±57,694\n",
      "United States!!Percent                                         6.0%\n",
      "United States!!Percent Margin of Error                         ±0.1\n",
      "Name: 57, dtype: object\n",
      "Label (Grouping)                                  $10,000 to $14,999\n",
      "United States!!Estimate                                    4,919,505\n",
      "United States!!Margin of Error                               ±41,611\n",
      "United States!!Percent                                          3.9%\n",
      "United States!!Percent Margin of Error                          ±0.1\n",
      "Name: 58, dtype: object\n",
      "\n",
      "distribution is normal with a peak at 12608782\n",
      "12509477\n",
      "12608782\n",
      "12708087\n"
     ]
    }
   ],
   "source": [
    "def parse_int(s):\n",
    "    return int(''.join(list(filter(str.isdigit, s))))\n",
    "\n",
    "# df.loc['        Less than $10,000']['United States!!Estimate']\n",
    "\n",
    "# df.loc[1][1]\n",
    "\n",
    "print(df.loc[57])\n",
    "print(df.loc[58])\n",
    "# print(df.loc[59])\n",
    "# df.loc[0]\n",
    "\n",
    "# df.loc[57]['United States!!Margin of Error']\n",
    "\n",
    "below_10k_estimate = parse_int(df.loc[57]['United States!!Estimate'])\n",
    "below_10k_err = parse_int(df.loc[57]['United States!!Margin of Error'])\n",
    "\n",
    "_10k_15k_estimate = parse_int(df.loc[58]['United States!!Estimate'])\n",
    "_10k_15k_err = parse_int(df.loc[58]['United States!!Margin of Error'])\n",
    "\n",
    "\n",
    "print()\n",
    "print('distribution is normal with a peak at',\n",
    "      below_10k_estimate + _10k_15k_estimate)\n",
    "print(below_10k_estimate + _10k_15k_estimate - below_10k_err - _10k_15k_err)\n",
    "print(below_10k_estimate + _10k_15k_estimate)\n",
    "print(below_10k_estimate + _10k_15k_estimate + below_10k_err + _10k_15k_err)\n",
    "\n"
   ]
  }
 ],
 "metadata": {
  "kernelspec": {
   "display_name": "Python 3",
   "language": "python",
   "name": "python3"
  },
  "language_info": {
   "codemirror_mode": {
    "name": "ipython",
    "version": 3
   },
   "file_extension": ".py",
   "mimetype": "text/x-python",
   "name": "python",
   "nbconvert_exporter": "python",
   "pygments_lexer": "ipython3",
   "version": "3.11.1"
  },
  "orig_nbformat": 4,
  "vscode": {
   "interpreter": {
    "hash": "5c7b89af1651d0b8571dde13640ecdccf7d5a6204171d6ab33e7c296e100e08a"
   }
  }
 },
 "nbformat": 4,
 "nbformat_minor": 2
}
