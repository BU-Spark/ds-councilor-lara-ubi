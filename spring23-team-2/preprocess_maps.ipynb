{
 "cells": [
  {
   "cell_type": "code",
   "execution_count": 10,
   "metadata": {},
   "outputs": [],
   "source": [
    "# https://data.census.gov/map?q=DP03&g=040XX00US25_050XX00US25025$1400000_160XX00US2507000&layer=VT_2018_040_00_PP_D1&mode=thematic&loc=42.0426,-71.9090,z6.9626\n",
    "\n",
    "import pandas as pd\n",
    "\n",
    "df = pd.read_csv('data/ACSDP5Y2021.DP03_2023-04-16T204655/ACSDP5Y2021.DP03-Data.csv')\n",
    "df.dropna(inplace=True, axis='columns')\n",
    "df.head()\n",
    "\n",
    "#Unemployment rate:DP03_0009E\n",
    "#INCOME AND BENEFITS (IN 2021 INFLATION-ADJUSTED DOLLARS) - Total households:DP03_0051E\n",
    "# Less than 10k: DP03_0052E\n",
    "# 10k to 15k: DP03_0053E\n",
    "# 15 - 25k: DP03_0054E\n",
    "# 25 - 35k: DP03_0055E\n",
    "# 35-50k: DP03_0056E\n",
    "# Total households!!Median household income (dollars):DP03_0062E\n",
    "#Mean household income (dollars) : DP03_0063E\n",
    "# Total households!!With Supplemental Security Income: DP03_0070E\n",
    "# Total households!!With Food Stamp/SNAP benefits in the past 12 months:DP03_0074E\n",
    "# PERCENTAGE OF FAMILIES AND PEOPLE WHOSE INCOME IN THE PAST 12 MONTHS IS BELOW THE POVERTY LEVEL: DP03_0128PE\n",
    "\n",
    "\n",
    "unemployment_rate = df[['GEO_ID','DP03_0051E']]\n",
    "median_household_income = df[['GEO_ID','DP03_0062E']]\n",
    "mean_household_income = df[['GEO_ID','DP03_0063E']]\n",
    "ssi = df[['GEO_ID','DP03_0070E']]\n",
    "food_stamps = df[['GEO_ID','DP03_0074E']]\n",
    "percent_below_poverty_line = df[['GEO_ID','DP03_0128PE']]"
   ]
  }
 ],
 "metadata": {
  "kernelspec": {
   "display_name": "Python 3",
   "language": "python",
   "name": "python3"
  },
  "language_info": {
   "codemirror_mode": {
    "name": "ipython",
    "version": 3
   },
   "file_extension": ".py",
   "mimetype": "text/x-python",
   "name": "python",
   "nbconvert_exporter": "python",
   "pygments_lexer": "ipython3",
   "version": "3.11.2"
  },
  "orig_nbformat": 4
 },
 "nbformat": 4,
 "nbformat_minor": 2
}
