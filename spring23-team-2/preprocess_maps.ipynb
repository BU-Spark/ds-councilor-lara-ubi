{
 "cells": [
  {
   "cell_type": "code",
   "execution_count": null,
   "metadata": {},
   "outputs": [],
   "source": [
    "# https://www.arcgis.com/apps/mapviewer/index.html?webmap=263b64f4edf04a589d675d97964f1bea\n",
    "\n",
    "# https://data.census.gov/map?q=DP03&g=040XX00US25_050XX00US25025$1400000_160XX00US2507000&layer=VT_2018_040_00_PP_D1&mode=thematic&loc=42.0426,-71.9090,z6.9626\n",
    "\n",
    "\n"
   ]
  }
 ],
 "metadata": {
  "language_info": {
   "name": "python"
  },
  "orig_nbformat": 4
 },
 "nbformat": 4,
 "nbformat_minor": 2
}
