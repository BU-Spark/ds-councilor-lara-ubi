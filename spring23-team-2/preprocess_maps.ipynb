{
 "cells": [
  {
   "cell_type": "code",
   "execution_count": null,
   "metadata": {},
   "outputs": [],
   "source": [
    "# https://data.census.gov/map?q=DP03&g=040XX00US25_050XX00US25025$1400000_160XX00US2507000&layer=VT_2018_040_00_PP_D1&mode=thematic&loc=42.0426,-71.9090,z6.9626\n"
   ]
  }
 ],
 "metadata": {
  "language_info": {
   "name": "python"
  },
  "orig_nbformat": 4
 },
 "nbformat": 4,
 "nbformat_minor": 2
}
